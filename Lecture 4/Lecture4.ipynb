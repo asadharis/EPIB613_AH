{
 "cells": [
  {
   "cell_type": "markdown",
   "metadata": {},
   "source": [
    "# Lecture 4 Data management: Part I\n",
    "- Control structure\n",
    "- Missing value\n",
    "- Dates\n",
    "- Useful functions\n",
    "- How to write our own functions\n",
    "\n",
    "## 4.1 Control structure\n",
    "See ?Control\n",
    "\n",
    "Avoid using loops in R.\n",
    "### 4.1.1 For loop"
   ]
  },
  {
   "cell_type": "code",
   "execution_count": 1,
   "metadata": {},
   "outputs": [
    {
     "data": {
      "text/html": [
       "<table>\n",
       "<thead><tr><th scope=col>names</th><th scope=col>score</th></tr></thead>\n",
       "<tbody>\n",
       "\t<tr><td>Lucy </td><td>67   </td></tr>\n",
       "\t<tr><td>John </td><td>56   </td></tr>\n",
       "\t<tr><td>Mark </td><td>87   </td></tr>\n",
       "\t<tr><td>Candy</td><td>91   </td></tr>\n",
       "</tbody>\n",
       "</table>\n"
      ],
      "text/latex": [
       "\\begin{tabular}{r|ll}\n",
       " names & score\\\\\n",
       "\\hline\n",
       "\t Lucy  & 67   \\\\\n",
       "\t John  & 56   \\\\\n",
       "\t Mark  & 87   \\\\\n",
       "\t Candy & 91   \\\\\n",
       "\\end{tabular}\n"
      ],
      "text/markdown": [
       "\n",
       "names | score | \n",
       "|---|---|---|---|\n",
       "| Lucy  | 67    | \n",
       "| John  | 56    | \n",
       "| Mark  | 87    | \n",
       "| Candy | 91    | \n",
       "\n",
       "\n"
      ],
      "text/plain": [
       "  names score\n",
       "1 Lucy  67   \n",
       "2 John  56   \n",
       "3 Mark  87   \n",
       "4 Candy 91   "
      ]
     },
     "metadata": {},
     "output_type": "display_data"
    }
   ],
   "source": [
    "df <- data.frame(names = c(\"Lucy\", \"John\", \"Mark\", \"Candy\"),\n",
    "                score = c(67, 56, 87, 91))\n",
    "df"
   ]
  },
  {
   "cell_type": "code",
   "execution_count": 2,
   "metadata": {},
   "outputs": [
    {
     "data": {
      "text/html": [
       "<table>\n",
       "<thead><tr><th scope=col>names</th><th scope=col>score</th><th scope=col>student.no</th><th scope=col>curved.score</th></tr></thead>\n",
       "<tbody>\n",
       "\t<tr><td>Lucy     </td><td>67       </td><td>student 1</td><td>82       </td></tr>\n",
       "\t<tr><td>John     </td><td>56       </td><td>student 2</td><td>75       </td></tr>\n",
       "\t<tr><td>Mark     </td><td>87       </td><td>student 3</td><td>93       </td></tr>\n",
       "\t<tr><td>Candy    </td><td>91       </td><td>student 4</td><td>95       </td></tr>\n",
       "</tbody>\n",
       "</table>\n"
      ],
      "text/latex": [
       "\\begin{tabular}{r|llll}\n",
       " names & score & student.no & curved.score\\\\\n",
       "\\hline\n",
       "\t Lucy      & 67        & student 1 & 82       \\\\\n",
       "\t John      & 56        & student 2 & 75       \\\\\n",
       "\t Mark      & 87        & student 3 & 93       \\\\\n",
       "\t Candy     & 91        & student 4 & 95       \\\\\n",
       "\\end{tabular}\n"
      ],
      "text/markdown": [
       "\n",
       "names | score | student.no | curved.score | \n",
       "|---|---|---|---|\n",
       "| Lucy      | 67        | student 1 | 82        | \n",
       "| John      | 56        | student 2 | 75        | \n",
       "| Mark      | 87        | student 3 | 93        | \n",
       "| Candy     | 91        | student 4 | 95        | \n",
       "\n",
       "\n"
      ],
      "text/plain": [
       "  names score student.no curved.score\n",
       "1 Lucy  67    student 1  82          \n",
       "2 John  56    student 2  75          \n",
       "3 Mark  87    student 3  93          \n",
       "4 Candy 91    student 4  95          "
      ]
     },
     "metadata": {},
     "output_type": "display_data"
    }
   ],
   "source": [
    "for (i in 1:4){\n",
    "    df$student.no[i] <- paste(\"student\", i)\n",
    "    df$curved.score[i] <- round(sqrt(df$score[i]) * 10)\n",
    "}\n",
    "\n",
    "# Sometimes we want to incorporate the variables (e.g. index 'i') into a character string.\n",
    "# paste() and expression() are very useful functions for dealing with text in R.\n",
    "# We will talk about them in Section 4.4.\n",
    "\n",
    "df"
   ]
  },
  {
   "cell_type": "code",
   "execution_count": 3,
   "metadata": {},
   "outputs": [
    {
     "data": {
      "text/html": [
       "<ol class=list-inline>\n",
       "\t<li>2</li>\n",
       "\t<li>4</li>\n",
       "\t<li>6</li>\n",
       "\t<li>8</li>\n",
       "\t<li>10</li>\n",
       "</ol>\n"
      ],
      "text/latex": [
       "\\begin{enumerate*}\n",
       "\\item 2\n",
       "\\item 4\n",
       "\\item 6\n",
       "\\item 8\n",
       "\\item 10\n",
       "\\end{enumerate*}\n"
      ],
      "text/markdown": [
       "1. 2\n",
       "2. 4\n",
       "3. 6\n",
       "4. 8\n",
       "5. 10\n",
       "\n",
       "\n"
      ],
      "text/plain": [
       "[1]  2  4  6  8 10"
      ]
     },
     "metadata": {},
     "output_type": "display_data"
    }
   ],
   "source": [
    "x <- NULL\n",
    "for (i in 1:5){\n",
    "    x[i] = 2*i\n",
    "}\n",
    "x"
   ]
  },
  {
   "cell_type": "markdown",
   "metadata": {},
   "source": [
    "###### Are there other ways to do this?"
   ]
  },
  {
   "cell_type": "code",
   "execution_count": 4,
   "metadata": {},
   "outputs": [
    {
     "data": {
      "text/html": [
       "<ol class=list-inline>\n",
       "\t<li>82</li>\n",
       "\t<li>75</li>\n",
       "\t<li>93</li>\n",
       "\t<li>95</li>\n",
       "</ol>\n"
      ],
      "text/latex": [
       "\\begin{enumerate*}\n",
       "\\item 82\n",
       "\\item 75\n",
       "\\item 93\n",
       "\\item 95\n",
       "\\end{enumerate*}\n"
      ],
      "text/markdown": [
       "1. 82\n",
       "2. 75\n",
       "3. 93\n",
       "4. 95\n",
       "\n",
       "\n"
      ],
      "text/plain": [
       "[1] 82 75 93 95"
      ]
     },
     "metadata": {},
     "output_type": "display_data"
    }
   ],
   "source": [
    "round(sqrt(df$score)*10)"
   ]
  },
  {
   "cell_type": "markdown",
   "metadata": {},
   "source": [
    "### 4.1.2 While loop\n",
    "I did not cover two (useless) basic operator that are in [---], which are the modulus and integer division."
   ]
  },
  {
   "cell_type": "code",
   "execution_count": 5,
   "metadata": {},
   "outputs": [
    {
     "data": {
      "text/html": [
       "1"
      ],
      "text/latex": [
       "1"
      ],
      "text/markdown": [
       "1"
      ],
      "text/plain": [
       "[1] 1"
      ]
     },
     "metadata": {},
     "output_type": "display_data"
    },
    {
     "data": {
      "text/html": [
       "4"
      ],
      "text/latex": [
       "4"
      ],
      "text/markdown": [
       "4"
      ],
      "text/plain": [
       "[1] 4"
      ]
     },
     "metadata": {},
     "output_type": "display_data"
    }
   ],
   "source": [
    "9 %% 2   # 9 mod 2\n",
    "9 %/% 2"
   ]
  },
  {
   "cell_type": "markdown",
   "metadata": {},
   "source": [
    "#### Can we write a while loop to do the two operations at the same time?"
   ]
  },
  {
   "cell_type": "code",
   "execution_count": 6,
   "metadata": {},
   "outputs": [
    {
     "data": {
      "text/html": [
       "1"
      ],
      "text/latex": [
       "1"
      ],
      "text/markdown": [
       "1"
      ],
      "text/plain": [
       "[1] 1"
      ]
     },
     "metadata": {},
     "output_type": "display_data"
    },
    {
     "data": {
      "text/html": [
       "4"
      ],
      "text/latex": [
       "4"
      ],
      "text/markdown": [
       "4"
      ],
      "text/plain": [
       "[1] 4"
      ]
     },
     "metadata": {},
     "output_type": "display_data"
    }
   ],
   "source": [
    "# y %% x\n",
    "i <- 0\n",
    "y <- 9\n",
    "x <- 2\n",
    "while (y>=x){\n",
    "    y <- y - x\n",
    "    i <- i + 1\n",
    "}\n",
    "y   # modulus\n",
    "i   # integer division\n",
    "# why?"
   ]
  },
  {
   "cell_type": "markdown",
   "metadata": {},
   "source": [
    "### 4.1.3 If-else \"loop\"\n",
    "According to [---], this is another loop.\n",
    "\n",
    "I would not call this a loop, because it only executes once.\n",
    "###### Once is enough - \n",
    "    -- \"Honey, on your way home, buy 6 oranges at the supermarket. If they have watermelons, get 1.\"\n",
    "\n",
    "    -- Mr. Programmer came home with 1 orange.\n",
    "\n",
    "    -- Furious girlfriend, \"Why the [--beep--] did you get only 1 orange?\"\n",
    "\n",
    "    -- \"Because they have watermelons.\""
   ]
  },
  {
   "cell_type": "code",
   "execution_count": 7,
   "metadata": {},
   "outputs": [
    {
     "name": "stdout",
     "output_type": "stream",
     "text": [
      "[1] \"Buy 6 oranges\"\n"
     ]
    },
    {
     "data": {
      "text/html": [
       "'Buy 6 oranges'"
      ],
      "text/latex": [
       "'Buy 6 oranges'"
      ],
      "text/markdown": [
       "'Buy 6 oranges'"
      ],
      "text/plain": [
       "[1] \"Buy 6 oranges\""
      ]
     },
     "metadata": {},
     "output_type": "display_data"
    }
   ],
   "source": [
    "watermelon <- FALSE\n",
    "no.orange <- if (watermelon == TRUE){\n",
    "    \"Buy 1 orange\"\n",
    "} else {\n",
    "    print(\"Buy 6 oranges\")   # As seen in class, print() is useless here.\n",
    "}\n",
    "no.orange"
   ]
  },
  {
   "cell_type": "code",
   "execution_count": 8,
   "metadata": {},
   "outputs": [
    {
     "data": {
      "text/html": [
       "'Buy 6 oranges'"
      ],
      "text/latex": [
       "'Buy 6 oranges'"
      ],
      "text/markdown": [
       "'Buy 6 oranges'"
      ],
      "text/plain": [
       "[1] \"Buy 6 oranges\""
      ]
     },
     "metadata": {},
     "output_type": "display_data"
    }
   ],
   "source": [
    "# I prefer a simple function, ifelse(test, yes, no)\n",
    "watermelon <- F\n",
    "ifelse(watermelon == TRUE, yes = \"Buy 1 orange\", no = \"Buy 6 oranges\")"
   ]
  },
  {
   "cell_type": "markdown",
   "metadata": {},
   "source": [
    "###### Are there other ways to do this? Why we might want other ways?\n",
    "There are always other ways to do things in R\n",
    "\n",
    "The real question is why we want use other ways?\n",
    "\n",
    "If-else is not a loop. We dont need to think about more efficient ways or anything.\n",
    "\n",
    "### 4.1.4 Repeat loop"
   ]
  },
  {
   "cell_type": "code",
   "execution_count": 9,
   "metadata": {},
   "outputs": [],
   "source": [
    "i <- 0\n",
    "# repeat {system(\"say Because they have watermelons!\")\n",
    "#         i <- i + 1\n",
    "#     if (i>=3){\n",
    "#         break\n",
    "#     }\n",
    "# }"
   ]
  },
  {
   "cell_type": "markdown",
   "metadata": {},
   "source": [
    "###### Exercise: use the repeat loop to calculate 9 %% 2 and 9 %/% 2."
   ]
  },
  {
   "cell_type": "code",
   "execution_count": 10,
   "metadata": {},
   "outputs": [
    {
     "data": {
      "text/html": [
       "1"
      ],
      "text/latex": [
       "1"
      ],
      "text/markdown": [
       "1"
      ],
      "text/plain": [
       "[1] 1"
      ]
     },
     "metadata": {},
     "output_type": "display_data"
    },
    {
     "data": {
      "text/html": [
       "4"
      ],
      "text/latex": [
       "4"
      ],
      "text/markdown": [
       "4"
      ],
      "text/plain": [
       "[1] 4"
      ]
     },
     "metadata": {},
     "output_type": "display_data"
    }
   ],
   "source": [
    "i <- 0\n",
    "y <- 9\n",
    "x <- 2\n",
    "\n",
    "repeat{\n",
    "    y = y - x\n",
    "    i = i + 1\n",
    "    if (y <= x){\n",
    "        break\n",
    "    }\n",
    "}\n",
    "\n",
    "y # Modulus\n",
    "i # Integer division"
   ]
  },
  {
   "cell_type": "markdown",
   "metadata": {},
   "source": [
    "###### Are there any situations that loops cannot be replaced by vector operations?\n",
    "\n",
    "When the input of the new iteration depends on the output of the previous iteration(s)."
   ]
  },
  {
   "cell_type": "markdown",
   "metadata": {},
   "source": [
    "## 4.2 Missing values\n",
    "- NA"
   ]
  },
  {
   "cell_type": "code",
   "execution_count": 11,
   "metadata": {},
   "outputs": [
    {
     "data": {
      "text/html": [
       "<table>\n",
       "<thead><tr><th scope=col>names</th><th scope=col>score</th><th scope=col>student.no</th><th scope=col>curved.score</th></tr></thead>\n",
       "<tbody>\n",
       "\t<tr><td>Lucy     </td><td>67       </td><td>student 1</td><td>82       </td></tr>\n",
       "\t<tr><td>John     </td><td>NA       </td><td>student 2</td><td>75       </td></tr>\n",
       "\t<tr><td>Mark     </td><td>87       </td><td>NA       </td><td>93       </td></tr>\n",
       "\t<tr><td>Candy    </td><td>91       </td><td>student 4</td><td>95       </td></tr>\n",
       "</tbody>\n",
       "</table>\n"
      ],
      "text/latex": [
       "\\begin{tabular}{r|llll}\n",
       " names & score & student.no & curved.score\\\\\n",
       "\\hline\n",
       "\t Lucy      & 67        & student 1 & 82       \\\\\n",
       "\t John      & NA        & student 2 & 75       \\\\\n",
       "\t Mark      & 87        & NA        & 93       \\\\\n",
       "\t Candy     & 91        & student 4 & 95       \\\\\n",
       "\\end{tabular}\n"
      ],
      "text/markdown": [
       "\n",
       "names | score | student.no | curved.score | \n",
       "|---|---|---|---|\n",
       "| Lucy      | 67        | student 1 | 82        | \n",
       "| John      | NA        | student 2 | 75        | \n",
       "| Mark      | 87        | NA        | 93        | \n",
       "| Candy     | 91        | student 4 | 95        | \n",
       "\n",
       "\n"
      ],
      "text/plain": [
       "  names score student.no curved.score\n",
       "1 Lucy  67    student 1  82          \n",
       "2 John  NA    student 2  75          \n",
       "3 Mark  87    NA         93          \n",
       "4 Candy 91    student 4  95          "
      ]
     },
     "metadata": {},
     "output_type": "display_data"
    }
   ],
   "source": [
    "# Using indices from last lecture to change specific entries in R objects\n",
    "df.copy <- df\n",
    "df.copy$score[2] <- df.copy$student.no[3] <- NA\n",
    "df.copy"
   ]
  },
  {
   "cell_type": "code",
   "execution_count": 12,
   "metadata": {
    "scrolled": true
   },
   "outputs": [
    {
     "data": {
      "text/html": [
       "<table>\n",
       "<thead><tr><th scope=col>names</th><th scope=col>score</th><th scope=col>student.no</th><th scope=col>curved.score</th></tr></thead>\n",
       "<tbody>\n",
       "\t<tr><td>FALSE</td><td>FALSE</td><td>FALSE</td><td>FALSE</td></tr>\n",
       "\t<tr><td>FALSE</td><td> TRUE</td><td>FALSE</td><td>FALSE</td></tr>\n",
       "\t<tr><td>FALSE</td><td>FALSE</td><td> TRUE</td><td>FALSE</td></tr>\n",
       "\t<tr><td>FALSE</td><td>FALSE</td><td>FALSE</td><td>FALSE</td></tr>\n",
       "</tbody>\n",
       "</table>\n"
      ],
      "text/latex": [
       "\\begin{tabular}{llll}\n",
       " names & score & student.no & curved.score\\\\\n",
       "\\hline\n",
       "\t FALSE & FALSE & FALSE & FALSE\\\\\n",
       "\t FALSE &  TRUE & FALSE & FALSE\\\\\n",
       "\t FALSE & FALSE &  TRUE & FALSE\\\\\n",
       "\t FALSE & FALSE & FALSE & FALSE\\\\\n",
       "\\end{tabular}\n"
      ],
      "text/markdown": [
       "\n",
       "names | score | student.no | curved.score | \n",
       "|---|---|---|---|\n",
       "| FALSE | FALSE | FALSE | FALSE | \n",
       "| FALSE |  TRUE | FALSE | FALSE | \n",
       "| FALSE | FALSE |  TRUE | FALSE | \n",
       "| FALSE | FALSE | FALSE | FALSE | \n",
       "\n",
       "\n"
      ],
      "text/plain": [
       "     names score student.no curved.score\n",
       "[1,] FALSE FALSE FALSE      FALSE       \n",
       "[2,] FALSE  TRUE FALSE      FALSE       \n",
       "[3,] FALSE FALSE  TRUE      FALSE       \n",
       "[4,] FALSE FALSE FALSE      FALSE       "
      ]
     },
     "metadata": {},
     "output_type": "display_data"
    }
   ],
   "source": [
    "is.na(df.copy)"
   ]
  },
  {
   "cell_type": "code",
   "execution_count": 13,
   "metadata": {},
   "outputs": [
    {
     "data": {
      "text/html": [
       "2"
      ],
      "text/latex": [
       "2"
      ],
      "text/markdown": [
       "2"
      ],
      "text/plain": [
       "[1] 2"
      ]
     },
     "metadata": {},
     "output_type": "display_data"
    }
   ],
   "source": [
    "# Total number of cells with missing values\n",
    "sum(is.na(df.copy))"
   ]
  },
  {
   "cell_type": "code",
   "execution_count": 14,
   "metadata": {
    "scrolled": true
   },
   "outputs": [
    {
     "data": {
      "text/html": [
       "<ol class=list-inline>\n",
       "\t<li>TRUE</li>\n",
       "\t<li>FALSE</li>\n",
       "\t<li>FALSE</li>\n",
       "\t<li>TRUE</li>\n",
       "</ol>\n"
      ],
      "text/latex": [
       "\\begin{enumerate*}\n",
       "\\item TRUE\n",
       "\\item FALSE\n",
       "\\item FALSE\n",
       "\\item TRUE\n",
       "\\end{enumerate*}\n"
      ],
      "text/markdown": [
       "1. TRUE\n",
       "2. FALSE\n",
       "3. FALSE\n",
       "4. TRUE\n",
       "\n",
       "\n"
      ],
      "text/plain": [
       "[1]  TRUE FALSE FALSE  TRUE"
      ]
     },
     "metadata": {},
     "output_type": "display_data"
    }
   ],
   "source": [
    "# Whether a data point (row) is complete\n",
    "complete.cases(df.copy)"
   ]
  },
  {
   "cell_type": "code",
   "execution_count": 15,
   "metadata": {},
   "outputs": [
    {
     "data": {
      "text/html": [
       "<ol class=list-inline>\n",
       "\t<li>FALSE</li>\n",
       "\t<li>TRUE</li>\n",
       "\t<li>TRUE</li>\n",
       "\t<li>FALSE</li>\n",
       "</ol>\n"
      ],
      "text/latex": [
       "\\begin{enumerate*}\n",
       "\\item FALSE\n",
       "\\item TRUE\n",
       "\\item TRUE\n",
       "\\item FALSE\n",
       "\\end{enumerate*}\n"
      ],
      "text/markdown": [
       "1. FALSE\n",
       "2. TRUE\n",
       "3. TRUE\n",
       "4. FALSE\n",
       "\n",
       "\n"
      ],
      "text/plain": [
       "[1] FALSE  TRUE  TRUE FALSE"
      ]
     },
     "metadata": {},
     "output_type": "display_data"
    }
   ],
   "source": [
    "!complete.cases(df.copy)"
   ]
  },
  {
   "cell_type": "code",
   "execution_count": 16,
   "metadata": {},
   "outputs": [
    {
     "data": {
      "text/html": [
       "<table>\n",
       "<thead><tr><th></th><th scope=col>names</th><th scope=col>score</th><th scope=col>student.no</th><th scope=col>curved.score</th></tr></thead>\n",
       "<tbody>\n",
       "\t<tr><th scope=row>2</th><td>John     </td><td>NA       </td><td>student 2</td><td>75       </td></tr>\n",
       "\t<tr><th scope=row>3</th><td>Mark     </td><td>87       </td><td>NA       </td><td>93       </td></tr>\n",
       "</tbody>\n",
       "</table>\n"
      ],
      "text/latex": [
       "\\begin{tabular}{r|llll}\n",
       "  & names & score & student.no & curved.score\\\\\n",
       "\\hline\n",
       "\t2 & John      & NA        & student 2 & 75       \\\\\n",
       "\t3 & Mark      & 87        & NA        & 93       \\\\\n",
       "\\end{tabular}\n"
      ],
      "text/markdown": [
       "\n",
       "| <!--/--> | names | score | student.no | curved.score | \n",
       "|---|---|\n",
       "| 2 | John      | NA        | student 2 | 75        | \n",
       "| 3 | Mark      | 87        | NA        | 93        | \n",
       "\n",
       "\n"
      ],
      "text/plain": [
       "  names score student.no curved.score\n",
       "2 John  NA    student 2  75          \n",
       "3 Mark  87    NA         93          "
      ]
     },
     "metadata": {},
     "output_type": "display_data"
    }
   ],
   "source": [
    "# Inomplete data points\n",
    "df.copy[!complete.cases(df.copy), ]\n",
    "# Recall the logical operator \"!\""
   ]
  },
  {
   "cell_type": "code",
   "execution_count": 17,
   "metadata": {},
   "outputs": [
    {
     "data": {
      "text/html": [
       "&lt;NA&gt;"
      ],
      "text/latex": [
       "<NA>"
      ],
      "text/markdown": [
       "&lt;NA&gt;"
      ],
      "text/plain": [
       "[1] NA"
      ]
     },
     "metadata": {},
     "output_type": "display_data"
    }
   ],
   "source": [
    "# Taking the average score\n",
    "mean(df.copy$score)"
   ]
  },
  {
   "cell_type": "code",
   "execution_count": 18,
   "metadata": {},
   "outputs": [
    {
     "data": {
      "text/html": [
       "81.6666666666667"
      ],
      "text/latex": [
       "81.6666666666667"
      ],
      "text/markdown": [
       "81.6666666666667"
      ],
      "text/plain": [
       "[1] 81.66667"
      ]
     },
     "metadata": {},
     "output_type": "display_data"
    }
   ],
   "source": [
    "mean(df.copy$score, na.rm = TRUE)"
   ]
  },
  {
   "cell_type": "code",
   "execution_count": 19,
   "metadata": {},
   "outputs": [
    {
     "data": {
      "text/html": [
       "&lt;NA&gt;"
      ],
      "text/latex": [
       "<NA>"
      ],
      "text/markdown": [
       "&lt;NA&gt;"
      ],
      "text/plain": [
       "[1] NA"
      ]
     },
     "metadata": {},
     "output_type": "display_data"
    },
    {
     "data": {
      "text/html": [
       "245"
      ],
      "text/latex": [
       "245"
      ],
      "text/markdown": [
       "245"
      ],
      "text/plain": [
       "[1] 245"
      ]
     },
     "metadata": {},
     "output_type": "display_data"
    }
   ],
   "source": [
    "sum(df.copy$score)\n",
    "sum(df.copy$score, na.rm = T)"
   ]
  },
  {
   "cell_type": "code",
   "execution_count": 20,
   "metadata": {},
   "outputs": [
    {
     "data": {
      "text/html": [
       "<table>\n",
       "<thead><tr><th></th><th scope=col>names</th><th scope=col>score</th><th scope=col>student.no</th><th scope=col>curved.score</th></tr></thead>\n",
       "<tbody>\n",
       "\t<tr><th scope=row>1</th><td>Lucy     </td><td>67       </td><td>student 1</td><td>82       </td></tr>\n",
       "\t<tr><th scope=row>4</th><td>Candy    </td><td>91       </td><td>student 4</td><td>95       </td></tr>\n",
       "</tbody>\n",
       "</table>\n"
      ],
      "text/latex": [
       "\\begin{tabular}{r|llll}\n",
       "  & names & score & student.no & curved.score\\\\\n",
       "\\hline\n",
       "\t1 & Lucy      & 67        & student 1 & 82       \\\\\n",
       "\t4 & Candy     & 91        & student 4 & 95       \\\\\n",
       "\\end{tabular}\n"
      ],
      "text/markdown": [
       "\n",
       "| <!--/--> | names | score | student.no | curved.score | \n",
       "|---|---|\n",
       "| 1 | Lucy      | 67        | student 1 | 82        | \n",
       "| 4 | Candy     | 91        | student 4 | 95        | \n",
       "\n",
       "\n"
      ],
      "text/plain": [
       "  names score student.no curved.score\n",
       "1 Lucy  67    student 1  82          \n",
       "4 Candy 91    student 4  95          "
      ]
     },
     "metadata": {},
     "output_type": "display_data"
    }
   ],
   "source": [
    "na.omit(df.copy)"
   ]
  },
  {
   "cell_type": "markdown",
   "metadata": {},
   "source": [
    "## 4.3 Dates"
   ]
  },
  {
   "cell_type": "code",
   "execution_count": 21,
   "metadata": {},
   "outputs": [
    {
     "data": {
      "text/html": [
       "<time datetime=\"2018-09-27\">2018-09-27</time>"
      ],
      "text/latex": [
       "2018-09-27"
      ],
      "text/markdown": [
       "2018-09-27"
      ],
      "text/plain": [
       "[1] \"2018-09-27\""
      ]
     },
     "metadata": {},
     "output_type": "display_data"
    }
   ],
   "source": [
    "Sys.Date()\n",
    "# Note the standard date format in R"
   ]
  },
  {
   "cell_type": "code",
   "execution_count": 22,
   "metadata": {
    "scrolled": true
   },
   "outputs": [
    {
     "data": {
      "text/plain": [
       "[1] \"2018-09-27 15:11:01 EDT\""
      ]
     },
     "metadata": {},
     "output_type": "display_data"
    }
   ],
   "source": [
    "Sys.time() # Eastern Daylight Time"
   ]
  },
  {
   "cell_type": "code",
   "execution_count": 23,
   "metadata": {},
   "outputs": [
    {
     "data": {
      "text/html": [
       "'Thu Sep 27 15:11:01 2018'"
      ],
      "text/latex": [
       "'Thu Sep 27 15:11:01 2018'"
      ],
      "text/markdown": [
       "'Thu Sep 27 15:11:01 2018'"
      ],
      "text/plain": [
       "[1] \"Thu Sep 27 15:11:01 2018\""
      ]
     },
     "metadata": {},
     "output_type": "display_data"
    }
   ],
   "source": [
    "date()"
   ]
  },
  {
   "cell_type": "code",
   "execution_count": 24,
   "metadata": {},
   "outputs": [
    {
     "data": {
      "text/html": [
       "<time datetime=\"2018-10-04\">2018-10-04</time>"
      ],
      "text/latex": [
       "2018-10-04"
      ],
      "text/markdown": [
       "2018-10-04"
      ],
      "text/plain": [
       "[1] \"2018-10-04\""
      ]
     },
     "metadata": {},
     "output_type": "display_data"
    }
   ],
   "source": [
    "first.hw.post <- as.Date(\"Oct 4, 2018\", tryFormats = \"%b %d, %Y\")\n",
    "first.hw.post"
   ]
  },
  {
   "cell_type": "code",
   "execution_count": 25,
   "metadata": {
    "scrolled": true
   },
   "outputs": [
    {
     "data": {
      "text/html": [
       "<time datetime=\"2018-10-11\">2018-10-11</time>"
      ],
      "text/latex": [
       "2018-10-11"
      ],
      "text/markdown": [
       "2018-10-11"
      ],
      "text/plain": [
       "[1] \"2018-10-11\""
      ]
     },
     "metadata": {},
     "output_type": "display_data"
    }
   ],
   "source": [
    "first.hw.due <- as.Date(\"2018년10월11일\", tryFormats = \"%Y년%m월%d일\")\n",
    "first.hw.due\n",
    "# Just want to show you that any format can be recognized.\n",
    "# As long as you can let R know how to read it."
   ]
  },
  {
   "cell_type": "code",
   "execution_count": 26,
   "metadata": {},
   "outputs": [],
   "source": [
    "# Help file: Date-time Conversion Functions to and from Character\n",
    "# ?strptime"
   ]
  },
  {
   "cell_type": "code",
   "execution_count": 27,
   "metadata": {
    "scrolled": true
   },
   "outputs": [
    {
     "data": {
      "text/plain": [
       "Time difference of 14 days"
      ]
     },
     "metadata": {},
     "output_type": "display_data"
    }
   ],
   "source": [
    "first.hw.due - Sys.Date()"
   ]
  },
  {
   "cell_type": "code",
   "execution_count": 28,
   "metadata": {},
   "outputs": [
    {
     "data": {
      "text/html": [
       "17801"
      ],
      "text/latex": [
       "17801"
      ],
      "text/markdown": [
       "17801"
      ],
      "text/plain": [
       "[1] 17801"
      ]
     },
     "metadata": {},
     "output_type": "display_data"
    }
   ],
   "source": [
    "as.numeric(Sys.Date())"
   ]
  },
  {
   "cell_type": "code",
   "execution_count": 29,
   "metadata": {},
   "outputs": [
    {
     "data": {
      "text/html": [
       "<time datetime=\"1970-01-01\">1970-01-01</time>"
      ],
      "text/latex": [
       "1970-01-01"
      ],
      "text/markdown": [
       "1970-01-01"
      ],
      "text/plain": [
       "[1] \"1970-01-01\""
      ]
     },
     "metadata": {},
     "output_type": "display_data"
    }
   ],
   "source": [
    "# Time origin of R\n",
    "Sys.Date() - as.numeric(Sys.Date())"
   ]
  },
  {
   "cell_type": "code",
   "execution_count": 30,
   "metadata": {},
   "outputs": [
    {
     "data": {
      "text/plain": [
       "   user  system elapsed \n",
       "  0.723   0.043   0.768 "
      ]
     },
     "metadata": {},
     "output_type": "display_data"
    }
   ],
   "source": [
    "# How long does it take R to load the survival package\n",
    "time0 <- proc.time()\n",
    "library(survival)\n",
    "proc.time() - time0"
   ]
  },
  {
   "cell_type": "code",
   "execution_count": 31,
   "metadata": {},
   "outputs": [
    {
     "data": {
      "text/html": [
       "'Thursday September 27 2018'"
      ],
      "text/latex": [
       "'Thursday September 27 2018'"
      ],
      "text/markdown": [
       "'Thursday September 27 2018'"
      ],
      "text/plain": [
       "[1] \"Thursday September 27 2018\""
      ]
     },
     "metadata": {},
     "output_type": "display_data"
    }
   ],
   "source": [
    "format(Sys.Date(), format = \"%A %B %d %Y\")"
   ]
  },
  {
   "cell_type": "markdown",
   "metadata": {},
   "source": [
    "## 4.4 Useful functions\n",
    "### 4.4.1 Numeric functions"
   ]
  },
  {
   "cell_type": "code",
   "execution_count": 32,
   "metadata": {},
   "outputs": [
    {
     "data": {
      "text/html": [
       "3"
      ],
      "text/latex": [
       "3"
      ],
      "text/markdown": [
       "3"
      ],
      "text/plain": [
       "[1] 3"
      ]
     },
     "metadata": {},
     "output_type": "display_data"
    }
   ],
   "source": [
    "# Absolute value\n",
    "abs(-3)"
   ]
  },
  {
   "cell_type": "code",
   "execution_count": 33,
   "metadata": {
    "scrolled": true
   },
   "outputs": [
    {
     "data": {
      "text/html": [
       "4"
      ],
      "text/latex": [
       "4"
      ],
      "text/markdown": [
       "4"
      ],
      "text/plain": [
       "[1] 4"
      ]
     },
     "metadata": {},
     "output_type": "display_data"
    }
   ],
   "source": [
    "ceiling(3.14159)"
   ]
  },
  {
   "cell_type": "code",
   "execution_count": 34,
   "metadata": {},
   "outputs": [
    {
     "data": {
      "text/html": [
       "3"
      ],
      "text/latex": [
       "3"
      ],
      "text/markdown": [
       "3"
      ],
      "text/plain": [
       "[1] 3"
      ]
     },
     "metadata": {},
     "output_type": "display_data"
    }
   ],
   "source": [
    "floor(3.14159)"
   ]
  },
  {
   "cell_type": "code",
   "execution_count": 35,
   "metadata": {},
   "outputs": [
    {
     "data": {
      "text/html": [
       "3"
      ],
      "text/latex": [
       "3"
      ],
      "text/markdown": [
       "3"
      ],
      "text/plain": [
       "[1] 3"
      ]
     },
     "metadata": {},
     "output_type": "display_data"
    }
   ],
   "source": [
    "trunc(3.14159)"
   ]
  },
  {
   "cell_type": "code",
   "execution_count": 36,
   "metadata": {},
   "outputs": [
    {
     "data": {
      "text/html": [
       "3.14"
      ],
      "text/latex": [
       "3.14"
      ],
      "text/markdown": [
       "3.14"
      ],
      "text/plain": [
       "[1] 3.14"
      ]
     },
     "metadata": {},
     "output_type": "display_data"
    }
   ],
   "source": [
    "signif(3.14159, 3)"
   ]
  },
  {
   "cell_type": "code",
   "execution_count": 37,
   "metadata": {},
   "outputs": [],
   "source": [
    "# ?round"
   ]
  },
  {
   "cell_type": "markdown",
   "metadata": {},
   "source": [
    "###### Use these functions to calculate 9 %% 2 and 9 %/% 2."
   ]
  },
  {
   "cell_type": "code",
   "execution_count": 38,
   "metadata": {},
   "outputs": [
    {
     "data": {
      "text/html": [
       "4"
      ],
      "text/latex": [
       "4"
      ],
      "text/markdown": [
       "4"
      ],
      "text/plain": [
       "[1] 4"
      ]
     },
     "metadata": {},
     "output_type": "display_data"
    },
    {
     "data": {
      "text/html": [
       "1"
      ],
      "text/latex": [
       "1"
      ],
      "text/markdown": [
       "1"
      ],
      "text/plain": [
       "[1] 1"
      ]
     },
     "metadata": {},
     "output_type": "display_data"
    }
   ],
   "source": [
    "floor(9/2)\n",
    "9 - floor(9/2)*2"
   ]
  },
  {
   "cell_type": "markdown",
   "metadata": {},
   "source": [
    "### 4.4.2 Character functions\n",
    "- See [---] Lecture 4.\n",
    "- paste( ) and expression( )\n",
    "    - paste( ) put text and variable values together into a text string.\n",
    "    - expression( ) can be used to display math symbols when needed, e.g. in plot titles.\n",
    "\n",
    "###### Few situations where you have to deal with text in R\n",
    "- Data frame entries\n",
    "- Plot title, labels, legends, etc..."
   ]
  },
  {
   "cell_type": "code",
   "execution_count": 39,
   "metadata": {},
   "outputs": [
    {
     "name": "stdout",
     "output_type": "stream",
     "text": [
      "'data.frame':\t4 obs. of  4 variables:\n",
      " $ names       : Factor w/ 4 levels \"Candy\",\"John\",..: 3 2 4 1\n",
      " $ score       : num  67 56 87 91\n",
      " $ student.no  : chr  \"student 1\" \"student 2\" \"student 3\" \"student 4\"\n",
      " $ curved.score: num  82 75 93 95\n"
     ]
    },
    {
     "data": {
      "image/png": "[encoded data removed]",
      "text/plain": [
       "Plot with title “paste(\"Score is \", alpha, \", curved score is \", sqrt(alpha) %*% 10)”"
      ]
     },
     "metadata": {},
     "output_type": "display_data"
    }
   ],
   "source": [
    "for (i in 1:4){\n",
    "    df$student.no[i] <- paste(\"student\", i)\n",
    "    df$curved.score[i] <- round(sqrt(df$score[i]) * 10)\n",
    "}\n",
    "str(df)\n",
    "\n",
    "n <- nrow(df)\n",
    "plot(as.factor(df$student.no), df$curved.score,\n",
    "     # Math symbols in text\n",
    "     main = expression(paste(\"Score is \", alpha, \", curved score is \", sqrt(alpha)%*%10)),\n",
    "     # Variable value in text\n",
    "     xlab = paste(\"There are\", n, \"students\"))"
   ]
  },
  {
   "cell_type": "markdown",
   "metadata": {},
   "source": [
    "### 4.4.3 \"Apply\" family functions\n",
    "Some say that apply( ) family functions distinguish R experts and newbies.\n",
    "#### apply( )"
   ]
  },
  {
   "cell_type": "code",
   "execution_count": 40,
   "metadata": {},
   "outputs": [
    {
     "data": {
      "text/html": [
       "<table>\n",
       "<thead><tr><th scope=col>score</th><th scope=col>curved.score</th></tr></thead>\n",
       "<tbody>\n",
       "\t<tr><td>67</td><td>82</td></tr>\n",
       "\t<tr><td>56</td><td>75</td></tr>\n",
       "\t<tr><td>87</td><td>93</td></tr>\n",
       "\t<tr><td>91</td><td>95</td></tr>\n",
       "</tbody>\n",
       "</table>\n"
      ],
      "text/latex": [
       "\\begin{tabular}{r|ll}\n",
       " score & curved.score\\\\\n",
       "\\hline\n",
       "\t 67 & 82\\\\\n",
       "\t 56 & 75\\\\\n",
       "\t 87 & 93\\\\\n",
       "\t 91 & 95\\\\\n",
       "\\end{tabular}\n"
      ],
      "text/markdown": [
       "\n",
       "score | curved.score | \n",
       "|---|---|---|---|\n",
       "| 67 | 82 | \n",
       "| 56 | 75 | \n",
       "| 87 | 93 | \n",
       "| 91 | 95 | \n",
       "\n",
       "\n"
      ],
      "text/plain": [
       "  score curved.score\n",
       "1 67    82          \n",
       "2 56    75          \n",
       "3 87    93          \n",
       "4 91    95          "
      ]
     },
     "metadata": {},
     "output_type": "display_data"
    }
   ],
   "source": [
    "df.scores <- df[, c(\"score\", \"curved.score\")]; df.scores"
   ]
  },
  {
   "cell_type": "code",
   "execution_count": 41,
   "metadata": {},
   "outputs": [
    {
     "data": {
      "text/html": [
       "<dl class=dl-horizontal>\n",
       "\t<dt>score</dt>\n",
       "\t\t<dd>75.25</dd>\n",
       "\t<dt>curved.score</dt>\n",
       "\t\t<dd>86.25</dd>\n",
       "</dl>\n"
      ],
      "text/latex": [
       "\\begin{description*}\n",
       "\\item[score] 75.25\n",
       "\\item[curved.score] 86.25\n",
       "\\end{description*}\n"
      ],
      "text/markdown": [
       "score\n",
       ":   75.25curved.score\n",
       ":   86.25\n",
       "\n"
      ],
      "text/plain": [
       "       score curved.score \n",
       "       75.25        86.25 "
      ]
     },
     "metadata": {},
     "output_type": "display_data"
    }
   ],
   "source": [
    "apply(df.scores, MARGIN = 2, FUN = mean)"
   ]
  },
  {
   "cell_type": "code",
   "execution_count": 42,
   "metadata": {},
   "outputs": [
    {
     "data": {
      "text/html": [
       "<ol class=list-inline>\n",
       "\t<li>15</li>\n",
       "\t<li>19</li>\n",
       "\t<li>6</li>\n",
       "\t<li>4</li>\n",
       "</ol>\n"
      ],
      "text/latex": [
       "\\begin{enumerate*}\n",
       "\\item 15\n",
       "\\item 19\n",
       "\\item 6\n",
       "\\item 4\n",
       "\\end{enumerate*}\n"
      ],
      "text/markdown": [
       "1. 15\n",
       "2. 19\n",
       "3. 6\n",
       "4. 4\n",
       "\n",
       "\n"
      ],
      "text/plain": [
       "[1] 15 19  6  4"
      ]
     },
     "metadata": {},
     "output_type": "display_data"
    }
   ],
   "source": [
    "apply(df.scores, MARGIN = 1, FUN = diff)   # diff() calculates the difference - see Section 4.4.4"
   ]
  },
  {
   "cell_type": "code",
   "execution_count": 43,
   "metadata": {},
   "outputs": [
    {
     "name": "stdout",
     "output_type": "stream",
     "text": [
      ", , 1\n",
      "\n",
      "     [,1] [,2] [,3]\n",
      "[1,]    1    3    5\n",
      "[2,]    2    4    6\n",
      "\n",
      ", , 2\n",
      "\n",
      "     [,1] [,2] [,3]\n",
      "[1,]    7    9   11\n",
      "[2,]    8   10   12\n",
      "\n"
     ]
    }
   ],
   "source": [
    "myarray <- array(1:12, dim = c(2,3,2)); print(myarray)"
   ]
  },
  {
   "cell_type": "code",
   "execution_count": 44,
   "metadata": {},
   "outputs": [
    {
     "name": "stdout",
     "output_type": "stream",
     "text": [
      "     [,1] [,2]\n",
      "[1,]    3   15\n",
      "[2,]    7   19\n",
      "[3,]   11   23\n"
     ]
    }
   ],
   "source": [
    "print(apply(myarray, MARGIN = c(2, 3), sum))"
   ]
  },
  {
   "cell_type": "markdown",
   "metadata": {},
   "source": [
    "#### sapply( )"
   ]
  },
  {
   "cell_type": "code",
   "execution_count": 45,
   "metadata": {},
   "outputs": [
    {
     "data": {
      "text/html": [
       "<dl class=dl-horizontal>\n",
       "\t<dt>names</dt>\n",
       "\t\t<dd>FALSE</dd>\n",
       "\t<dt>score</dt>\n",
       "\t\t<dd>TRUE</dd>\n",
       "\t<dt>student.no</dt>\n",
       "\t\t<dd>FALSE</dd>\n",
       "\t<dt>curved.score</dt>\n",
       "\t\t<dd>TRUE</dd>\n",
       "</dl>\n"
      ],
      "text/latex": [
       "\\begin{description*}\n",
       "\\item[names] FALSE\n",
       "\\item[score] TRUE\n",
       "\\item[student.no] FALSE\n",
       "\\item[curved.score] TRUE\n",
       "\\end{description*}\n"
      ],
      "text/markdown": [
       "names\n",
       ":   FALSEscore\n",
       ":   TRUEstudent.no\n",
       ":   FALSEcurved.score\n",
       ":   TRUE\n",
       "\n"
      ],
      "text/plain": [
       "       names        score   student.no curved.score \n",
       "       FALSE         TRUE        FALSE         TRUE "
      ]
     },
     "metadata": {},
     "output_type": "display_data"
    }
   ],
   "source": [
    "sapply(df, is.numeric)"
   ]
  },
  {
   "cell_type": "markdown",
   "metadata": {},
   "source": [
    "###### There is also lapply( ), tapply( ), etc...\n",
    "###### And their parallel versions mclapply( ), parLapply( ) in the 'parallel' package for parallel computing.\n",
    "\n",
    "### 4.4.4 Other useful functions"
   ]
  },
  {
   "cell_type": "code",
   "execution_count": 46,
   "metadata": {},
   "outputs": [
    {
     "data": {
      "text/html": [
       "<ol class=list-inline>\n",
       "\t<li>1</li>\n",
       "\t<li>6</li>\n",
       "\t<li>4</li>\n",
       "\t<li>5</li>\n",
       "\t<li>8</li>\n",
       "\t<li>5</li>\n",
       "\t<li>4</li>\n",
       "\t<li>3</li>\n",
       "</ol>\n"
      ],
      "text/latex": [
       "\\begin{enumerate*}\n",
       "\\item 1\n",
       "\\item 6\n",
       "\\item 4\n",
       "\\item 5\n",
       "\\item 8\n",
       "\\item 5\n",
       "\\item 4\n",
       "\\item 3\n",
       "\\end{enumerate*}\n"
      ],
      "text/markdown": [
       "1. 1\n",
       "2. 6\n",
       "3. 4\n",
       "4. 5\n",
       "5. 8\n",
       "6. 5\n",
       "7. 4\n",
       "8. 3\n",
       "\n",
       "\n"
      ],
      "text/plain": [
       "[1] 1 6 4 5 8 5 4 3"
      ]
     },
     "metadata": {},
     "output_type": "display_data"
    }
   ],
   "source": [
    "age=c(1,6,4,5,8,5,4,3)\n",
    "weight=c(45,65,34)\n",
    "age"
   ]
  },
  {
   "cell_type": "code",
   "execution_count": 47,
   "metadata": {},
   "outputs": [
    {
     "data": {
      "text/html": [
       "4.5"
      ],
      "text/latex": [
       "4.5"
      ],
      "text/markdown": [
       "4.5"
      ],
      "text/plain": [
       "[1] 4.5"
      ]
     },
     "metadata": {},
     "output_type": "display_data"
    }
   ],
   "source": [
    "mean(age)"
   ]
  },
  {
   "cell_type": "code",
   "execution_count": 48,
   "metadata": {},
   "outputs": [
    {
     "data": {
      "text/html": [
       "57600"
      ],
      "text/latex": [
       "57600"
      ],
      "text/markdown": [
       "57600"
      ],
      "text/plain": [
       "[1] 57600"
      ]
     },
     "metadata": {},
     "output_type": "display_data"
    }
   ],
   "source": [
    "prod(age)"
   ]
  },
  {
   "cell_type": "code",
   "execution_count": 49,
   "metadata": {},
   "outputs": [
    {
     "data": {
      "text/html": [
       "4.5"
      ],
      "text/latex": [
       "4.5"
      ],
      "text/markdown": [
       "4.5"
      ],
      "text/plain": [
       "[1] 4.5"
      ]
     },
     "metadata": {},
     "output_type": "display_data"
    }
   ],
   "source": [
    "median(age)"
   ]
  },
  {
   "cell_type": "code",
   "execution_count": 50,
   "metadata": {},
   "outputs": [
    {
     "data": {
      "text/html": [
       "4.28571428571429"
      ],
      "text/latex": [
       "4.28571428571429"
      ],
      "text/markdown": [
       "4.28571428571429"
      ],
      "text/plain": [
       "[1] 4.285714"
      ]
     },
     "metadata": {},
     "output_type": "display_data"
    },
    {
     "data": {
      "text/html": [
       "2.07019667802706"
      ],
      "text/latex": [
       "2.07019667802706"
      ],
      "text/markdown": [
       "2.07019667802706"
      ],
      "text/plain": [
       "[1] 2.070197"
      ]
     },
     "metadata": {},
     "output_type": "display_data"
    }
   ],
   "source": [
    "var(age)\n",
    "sd(age)"
   ]
  },
  {
   "cell_type": "code",
   "execution_count": 51,
   "metadata": {},
   "outputs": [
    {
     "data": {
      "text/html": [
       "8"
      ],
      "text/latex": [
       "8"
      ],
      "text/markdown": [
       "8"
      ],
      "text/plain": [
       "[1] 8"
      ]
     },
     "metadata": {},
     "output_type": "display_data"
    },
    {
     "data": {
      "text/html": [
       "1"
      ],
      "text/latex": [
       "1"
      ],
      "text/markdown": [
       "1"
      ],
      "text/plain": [
       "[1] 1"
      ]
     },
     "metadata": {},
     "output_type": "display_data"
    },
    {
     "data": {
      "text/html": [
       "<ol class=list-inline>\n",
       "\t<li>1</li>\n",
       "\t<li>8</li>\n",
       "</ol>\n"
      ],
      "text/latex": [
       "\\begin{enumerate*}\n",
       "\\item 1\n",
       "\\item 8\n",
       "\\end{enumerate*}\n"
      ],
      "text/markdown": [
       "1. 1\n",
       "2. 8\n",
       "\n",
       "\n"
      ],
      "text/plain": [
       "[1] 1 8"
      ]
     },
     "metadata": {},
     "output_type": "display_data"
    }
   ],
   "source": [
    "max(age)\n",
    "min(age)\n",
    "range(age)"
   ]
  },
  {
   "cell_type": "code",
   "execution_count": 52,
   "metadata": {},
   "outputs": [
    {
     "data": {
      "text/html": [
       "5"
      ],
      "text/latex": [
       "5"
      ],
      "text/markdown": [
       "5"
      ],
      "text/plain": [
       "[1] 5"
      ]
     },
     "metadata": {},
     "output_type": "display_data"
    },
    {
     "data": {
      "text/html": [
       "1"
      ],
      "text/latex": [
       "1"
      ],
      "text/markdown": [
       "1"
      ],
      "text/plain": [
       "[1] 1"
      ]
     },
     "metadata": {},
     "output_type": "display_data"
    }
   ],
   "source": [
    "which.max(age)   #returns the index of the greatest element of x\n",
    "which.min(age)   #returns the index of the smallest element of x"
   ]
  },
  {
   "cell_type": "code",
   "execution_count": 53,
   "metadata": {},
   "outputs": [
    {
     "data": {
      "text/html": [
       "<ol class=list-inline>\n",
       "\t<li>0</li>\n",
       "\t<li>0.25</li>\n",
       "\t<li>0.5</li>\n",
       "\t<li>0.75</li>\n",
       "\t<li>1</li>\n",
       "</ol>\n"
      ],
      "text/latex": [
       "\\begin{enumerate*}\n",
       "\\item 0\n",
       "\\item 0.25\n",
       "\\item 0.5\n",
       "\\item 0.75\n",
       "\\item 1\n",
       "\\end{enumerate*}\n"
      ],
      "text/markdown": [
       "1. 0\n",
       "2. 0.25\n",
       "3. 0.5\n",
       "4. 0.75\n",
       "5. 1\n",
       "\n",
       "\n"
      ],
      "text/plain": [
       "[1] 0.00 0.25 0.50 0.75 1.00"
      ]
     },
     "metadata": {},
     "output_type": "display_data"
    },
    {
     "data": {
      "text/html": [
       "<dl class=dl-horizontal>\n",
       "\t<dt>0%</dt>\n",
       "\t\t<dd>1</dd>\n",
       "\t<dt>25%</dt>\n",
       "\t\t<dd>3.75</dd>\n",
       "\t<dt>50%</dt>\n",
       "\t\t<dd>4.5</dd>\n",
       "\t<dt>75%</dt>\n",
       "\t\t<dd>5.25</dd>\n",
       "\t<dt>100%</dt>\n",
       "\t\t<dd>8</dd>\n",
       "</dl>\n"
      ],
      "text/latex": [
       "\\begin{description*}\n",
       "\\item[0\\textbackslash{}\\%] 1\n",
       "\\item[25\\textbackslash{}\\%] 3.75\n",
       "\\item[50\\textbackslash{}\\%] 4.5\n",
       "\\item[75\\textbackslash{}\\%] 5.25\n",
       "\\item[100\\textbackslash{}\\%] 8\n",
       "\\end{description*}\n"
      ],
      "text/markdown": [
       "0%\n",
       ":   125%\n",
       ":   3.7550%\n",
       ":   4.575%\n",
       ":   5.25100%\n",
       ":   8\n",
       "\n"
      ],
      "text/plain": [
       "  0%  25%  50%  75% 100% \n",
       "1.00 3.75 4.50 5.25 8.00 "
      ]
     },
     "metadata": {},
     "output_type": "display_data"
    }
   ],
   "source": [
    "seq(from = 0, to = 1, by = 0.25)\n",
    "quantile(age, probs = seq(from = 0, to = 1, by = 0.25))\n",
    "# Returns the specified quantiles."
   ]
  },
  {
   "cell_type": "code",
   "execution_count": 54,
   "metadata": {},
   "outputs": [
    {
     "data": {
      "text/html": [
       "<ol class=list-inline>\n",
       "\t<li>1</li>\n",
       "\t<li>6</li>\n",
       "\t<li>4</li>\n",
       "\t<li>5</li>\n",
       "\t<li>8</li>\n",
       "\t<li>3</li>\n",
       "</ol>\n"
      ],
      "text/latex": [
       "\\begin{enumerate*}\n",
       "\\item 1\n",
       "\\item 6\n",
       "\\item 4\n",
       "\\item 5\n",
       "\\item 8\n",
       "\\item 3\n",
       "\\end{enumerate*}\n"
      ],
      "text/markdown": [
       "1. 1\n",
       "2. 6\n",
       "3. 4\n",
       "4. 5\n",
       "5. 8\n",
       "6. 3\n",
       "\n",
       "\n"
      ],
      "text/plain": [
       "[1] 1 6 4 5 8 3"
      ]
     },
     "metadata": {},
     "output_type": "display_data"
    }
   ],
   "source": [
    "unique(age)   # Gives the vector of distinct values"
   ]
  },
  {
   "cell_type": "code",
   "execution_count": 55,
   "metadata": {},
   "outputs": [
    {
     "data": {
      "text/html": [
       "<ol class=list-inline>\n",
       "\t<li>5</li>\n",
       "\t<li>-2</li>\n",
       "\t<li>1</li>\n",
       "\t<li>3</li>\n",
       "\t<li>-3</li>\n",
       "\t<li>-1</li>\n",
       "\t<li>-1</li>\n",
       "</ol>\n"
      ],
      "text/latex": [
       "\\begin{enumerate*}\n",
       "\\item 5\n",
       "\\item -2\n",
       "\\item 1\n",
       "\\item 3\n",
       "\\item -3\n",
       "\\item -1\n",
       "\\item -1\n",
       "\\end{enumerate*}\n"
      ],
      "text/markdown": [
       "1. 5\n",
       "2. -2\n",
       "3. 1\n",
       "4. 3\n",
       "5. -3\n",
       "6. -1\n",
       "7. -1\n",
       "\n",
       "\n"
      ],
      "text/plain": [
       "[1]  5 -2  1  3 -3 -1 -1"
      ]
     },
     "metadata": {},
     "output_type": "display_data"
    }
   ],
   "source": [
    "diff(age)   # Replaces a vector by the vector of first differences"
   ]
  },
  {
   "cell_type": "code",
   "execution_count": 56,
   "metadata": {},
   "outputs": [
    {
     "data": {
      "text/html": [
       "<ol class=list-inline>\n",
       "\t<li>1</li>\n",
       "\t<li>3</li>\n",
       "\t<li>4</li>\n",
       "\t<li>4</li>\n",
       "\t<li>5</li>\n",
       "\t<li>5</li>\n",
       "\t<li>6</li>\n",
       "\t<li>8</li>\n",
       "</ol>\n"
      ],
      "text/latex": [
       "\\begin{enumerate*}\n",
       "\\item 1\n",
       "\\item 3\n",
       "\\item 4\n",
       "\\item 4\n",
       "\\item 5\n",
       "\\item 5\n",
       "\\item 6\n",
       "\\item 8\n",
       "\\end{enumerate*}\n"
      ],
      "text/markdown": [
       "1. 1\n",
       "2. 3\n",
       "3. 4\n",
       "4. 4\n",
       "5. 5\n",
       "6. 5\n",
       "7. 6\n",
       "8. 8\n",
       "\n",
       "\n"
      ],
      "text/plain": [
       "[1] 1 3 4 4 5 5 6 8"
      ]
     },
     "metadata": {},
     "output_type": "display_data"
    }
   ],
   "source": [
    "sort(age)   # Sorts elements into order"
   ]
  },
  {
   "cell_type": "code",
   "execution_count": 57,
   "metadata": {},
   "outputs": [
    {
     "data": {
      "text/html": [
       "<ol class=list-inline>\n",
       "\t<li>1</li>\n",
       "\t<li>3</li>\n",
       "\t<li>4</li>\n",
       "\t<li>4</li>\n",
       "\t<li>5</li>\n",
       "\t<li>5</li>\n",
       "\t<li>6</li>\n",
       "\t<li>8</li>\n",
       "</ol>\n"
      ],
      "text/latex": [
       "\\begin{enumerate*}\n",
       "\\item 1\n",
       "\\item 3\n",
       "\\item 4\n",
       "\\item 4\n",
       "\\item 5\n",
       "\\item 5\n",
       "\\item 6\n",
       "\\item 8\n",
       "\\end{enumerate*}\n"
      ],
      "text/markdown": [
       "1. 1\n",
       "2. 3\n",
       "3. 4\n",
       "4. 4\n",
       "5. 5\n",
       "6. 5\n",
       "7. 6\n",
       "8. 8\n",
       "\n",
       "\n"
      ],
      "text/plain": [
       "[1] 1 3 4 4 5 5 6 8"
      ]
     },
     "metadata": {},
     "output_type": "display_data"
    }
   ],
   "source": [
    "age[order(age)]   # x[order(x)] orders elements of x"
   ]
  },
  {
   "cell_type": "code",
   "execution_count": 58,
   "metadata": {},
   "outputs": [
    {
     "data": {
      "text/html": [
       "<ol class=list-inline>\n",
       "\t<li>1</li>\n",
       "\t<li>7</li>\n",
       "\t<li>11</li>\n",
       "\t<li>16</li>\n",
       "\t<li>24</li>\n",
       "\t<li>29</li>\n",
       "\t<li>33</li>\n",
       "\t<li>36</li>\n",
       "</ol>\n"
      ],
      "text/latex": [
       "\\begin{enumerate*}\n",
       "\\item 1\n",
       "\\item 7\n",
       "\\item 11\n",
       "\\item 16\n",
       "\\item 24\n",
       "\\item 29\n",
       "\\item 33\n",
       "\\item 36\n",
       "\\end{enumerate*}\n"
      ],
      "text/markdown": [
       "1. 1\n",
       "2. 7\n",
       "3. 11\n",
       "4. 16\n",
       "5. 24\n",
       "6. 29\n",
       "7. 33\n",
       "8. 36\n",
       "\n",
       "\n"
      ],
      "text/plain": [
       "[1]  1  7 11 16 24 29 33 36"
      ]
     },
     "metadata": {},
     "output_type": "display_data"
    },
    {
     "data": {
      "text/html": [
       "<ol class=list-inline>\n",
       "\t<li>1</li>\n",
       "\t<li>6</li>\n",
       "\t<li>24</li>\n",
       "\t<li>120</li>\n",
       "\t<li>960</li>\n",
       "\t<li>4800</li>\n",
       "\t<li>19200</li>\n",
       "\t<li>57600</li>\n",
       "</ol>\n"
      ],
      "text/latex": [
       "\\begin{enumerate*}\n",
       "\\item 1\n",
       "\\item 6\n",
       "\\item 24\n",
       "\\item 120\n",
       "\\item 960\n",
       "\\item 4800\n",
       "\\item 19200\n",
       "\\item 57600\n",
       "\\end{enumerate*}\n"
      ],
      "text/markdown": [
       "1. 1\n",
       "2. 6\n",
       "3. 24\n",
       "4. 120\n",
       "5. 960\n",
       "6. 4800\n",
       "7. 19200\n",
       "8. 57600\n",
       "\n",
       "\n"
      ],
      "text/plain": [
       "[1]     1     6    24   120   960  4800 19200 57600"
      ]
     },
     "metadata": {},
     "output_type": "display_data"
    }
   ],
   "source": [
    "cumsum(age)   # Cumulative sums\n",
    "cumprod(age)   # Cumulative products"
   ]
  },
  {
   "cell_type": "code",
   "execution_count": 59,
   "metadata": {
    "scrolled": true
   },
   "outputs": [
    {
     "data": {
      "text/html": [
       "<ol class=list-inline>\n",
       "\t<li>1</li>\n",
       "\t<li>6</li>\n",
       "\t<li>4</li>\n",
       "\t<li>5</li>\n",
       "\t<li>8</li>\n",
       "\t<li>5</li>\n",
       "\t<li>4</li>\n",
       "\t<li>3</li>\n",
       "</ol>\n"
      ],
      "text/latex": [
       "\\begin{enumerate*}\n",
       "\\item 1\n",
       "\\item 6\n",
       "\\item 4\n",
       "\\item 5\n",
       "\\item 8\n",
       "\\item 5\n",
       "\\item 4\n",
       "\\item 3\n",
       "\\end{enumerate*}\n"
      ],
      "text/markdown": [
       "1. 1\n",
       "2. 6\n",
       "3. 4\n",
       "4. 5\n",
       "5. 8\n",
       "6. 5\n",
       "7. 4\n",
       "8. 3\n",
       "\n",
       "\n"
      ],
      "text/plain": [
       "[1] 1 6 4 5 8 5 4 3"
      ]
     },
     "metadata": {},
     "output_type": "display_data"
    },
    {
     "data": {
      "text/html": [
       "<ol class=list-inline>\n",
       "\t<li>(0.993,4.5]</li>\n",
       "\t<li>(4.5,8.01]</li>\n",
       "\t<li>(0.993,4.5]</li>\n",
       "\t<li>(4.5,8.01]</li>\n",
       "\t<li>(4.5,8.01]</li>\n",
       "\t<li>(4.5,8.01]</li>\n",
       "\t<li>(0.993,4.5]</li>\n",
       "\t<li>(0.993,4.5]</li>\n",
       "</ol>\n",
       "\n",
       "<details>\n",
       "\t<summary style=display:list-item;cursor:pointer>\n",
       "\t\t<strong>Levels</strong>:\n",
       "\t</summary>\n",
       "\t<ol class=list-inline>\n",
       "\t\t<li>'(0.993,4.5]'</li>\n",
       "\t\t<li>'(4.5,8.01]'</li>\n",
       "\t</ol>\n",
       "</details>"
      ],
      "text/latex": [
       "\\begin{enumerate*}\n",
       "\\item (0.993,4.5{]}\n",
       "\\item (4.5,8.01{]}\n",
       "\\item (0.993,4.5{]}\n",
       "\\item (4.5,8.01{]}\n",
       "\\item (4.5,8.01{]}\n",
       "\\item (4.5,8.01{]}\n",
       "\\item (0.993,4.5{]}\n",
       "\\item (0.993,4.5{]}\n",
       "\\end{enumerate*}\n",
       "\n",
       "\\emph{Levels}: \\begin{enumerate*}\n",
       "\\item '(0.993,4.5{]}'\n",
       "\\item '(4.5,8.01{]}'\n",
       "\\end{enumerate*}\n"
      ],
      "text/markdown": [
       "1. (0.993,4.5]\n",
       "2. (4.5,8.01]\n",
       "3. (0.993,4.5]\n",
       "4. (4.5,8.01]\n",
       "5. (4.5,8.01]\n",
       "6. (4.5,8.01]\n",
       "7. (0.993,4.5]\n",
       "8. (0.993,4.5]\n",
       "\n",
       "\n",
       "\n",
       "**Levels**: 1. '(0.993,4.5]'\n",
       "2. '(4.5,8.01]'\n",
       "\n",
       "\n"
      ],
      "text/plain": [
       "[1] (0.993,4.5] (4.5,8.01]  (0.993,4.5] (4.5,8.01]  (4.5,8.01]  (4.5,8.01] \n",
       "[7] (0.993,4.5] (0.993,4.5]\n",
       "Levels: (0.993,4.5] (4.5,8.01]"
      ]
     },
     "metadata": {},
     "output_type": "display_data"
    },
    {
     "data": {
      "text/plain": [
       "cat\n",
       "(0.993,4.5]  (4.5,8.01] \n",
       "          4           4 "
      ]
     },
     "metadata": {},
     "output_type": "display_data"
    }
   ],
   "source": [
    "age\n",
    "cat <- cut(age, breaks = 2); cat   # Divide continuous variable in factor with n levels\n",
    "table(cat)   # Cross tabulation and table creation"
   ]
  },
  {
   "cell_type": "code",
   "execution_count": 60,
   "metadata": {},
   "outputs": [
    {
     "data": {
      "text/html": [
       "<dl>\n",
       "\t<dt>$`(0.993,4.5]`</dt>\n",
       "\t\t<dd><ol class=list-inline>\n",
       "\t<li>1</li>\n",
       "\t<li>4</li>\n",
       "\t<li>4</li>\n",
       "\t<li>3</li>\n",
       "</ol>\n",
       "</dd>\n",
       "\t<dt>$`(4.5,8.01]`</dt>\n",
       "\t\t<dd><ol class=list-inline>\n",
       "\t<li>6</li>\n",
       "\t<li>5</li>\n",
       "\t<li>8</li>\n",
       "\t<li>5</li>\n",
       "</ol>\n",
       "</dd>\n",
       "</dl>\n"
      ],
      "text/latex": [
       "\\begin{description}\n",
       "\\item[\\$`(0.993,4.5{]}`] \\begin{enumerate*}\n",
       "\\item 1\n",
       "\\item 4\n",
       "\\item 4\n",
       "\\item 3\n",
       "\\end{enumerate*}\n",
       "\n",
       "\\item[\\$`(4.5,8.01{]}`] \\begin{enumerate*}\n",
       "\\item 6\n",
       "\\item 5\n",
       "\\item 8\n",
       "\\item 5\n",
       "\\end{enumerate*}\n",
       "\n",
       "\\end{description}\n"
      ],
      "text/markdown": [
       "$`(0.993,4.5]`\n",
       ":   1. 1\n",
       "2. 4\n",
       "3. 4\n",
       "4. 3\n",
       "\n",
       "\n",
       "\n",
       "$`(4.5,8.01]`\n",
       ":   1. 6\n",
       "2. 5\n",
       "3. 8\n",
       "4. 5\n",
       "\n",
       "\n",
       "\n",
       "\n",
       "\n"
      ],
      "text/plain": [
       "$`(0.993,4.5]`\n",
       "[1] 1 4 4 3\n",
       "\n",
       "$`(4.5,8.01]`\n",
       "[1] 6 5 8 5\n"
      ]
     },
     "metadata": {},
     "output_type": "display_data"
    }
   ],
   "source": [
    "# Split the variable into categories\n",
    "age.cat <- split(age, cut(age,2))\n",
    "age.cat"
   ]
  },
  {
   "cell_type": "code",
   "execution_count": 61,
   "metadata": {},
   "outputs": [
    {
     "name": "stdout",
     "output_type": "stream",
     "text": [
      "List of 2\n",
      " $ (0.993,4.5]: num [1:4] 1 4 4 3\n",
      " $ (4.5,8.01] : num [1:4] 6 5 8 5\n"
     ]
    }
   ],
   "source": [
    "# split() gives a list\n",
    "str(age.cat)"
   ]
  },
  {
   "cell_type": "code",
   "execution_count": 62,
   "metadata": {
    "scrolled": true
   },
   "outputs": [
    {
     "data": {
      "text/html": [
       "<dl>\n",
       "\t<dt>$`(0.993,4.5]`</dt>\n",
       "\t\t<dd>3</dd>\n",
       "\t<dt>$`(4.5,8.01]`</dt>\n",
       "\t\t<dd>6</dd>\n",
       "</dl>\n"
      ],
      "text/latex": [
       "\\begin{description}\n",
       "\\item[\\$`(0.993,4.5{]}`] 3\n",
       "\\item[\\$`(4.5,8.01{]}`] 6\n",
       "\\end{description}\n"
      ],
      "text/markdown": [
       "$`(0.993,4.5]`\n",
       ":   3\n",
       "$`(4.5,8.01]`\n",
       ":   6\n",
       "\n",
       "\n"
      ],
      "text/plain": [
       "$`(0.993,4.5]`\n",
       "[1] 3\n",
       "\n",
       "$`(4.5,8.01]`\n",
       "[1] 6\n"
      ]
     },
     "metadata": {},
     "output_type": "display_data"
    }
   ],
   "source": [
    "# lapply: list apply\n",
    "lapply(age.cat, mean)"
   ]
  },
  {
   "cell_type": "markdown",
   "metadata": {},
   "source": [
    "## 4.5 Write our own functions\n",
    "- function( )"
   ]
  },
  {
   "cell_type": "code",
   "execution_count": 63,
   "metadata": {},
   "outputs": [],
   "source": [
    "# The structure\n",
    "\n",
    "func_name <- function(argument){\n",
    "    statement\n",
    "}"
   ]
  },
  {
   "cell_type": "markdown",
   "metadata": {},
   "source": [
    "#### Write my own function of $x^y$:"
   ]
  },
  {
   "cell_type": "code",
   "execution_count": 64,
   "metadata": {},
   "outputs": [
    {
     "data": {
      "text/html": [
       "9"
      ],
      "text/latex": [
       "9"
      ],
      "text/markdown": [
       "9"
      ],
      "text/plain": [
       "[1] 9"
      ]
     },
     "metadata": {},
     "output_type": "display_data"
    },
    {
     "data": {
      "text/html": [
       "8"
      ],
      "text/latex": [
       "8"
      ],
      "text/markdown": [
       "8"
      ],
      "text/plain": [
       "[1] 8"
      ]
     },
     "metadata": {},
     "output_type": "display_data"
    }
   ],
   "source": [
    "X.to.the.power.of.Y <- function(y, x){\n",
    "    x^y\n",
    "}\n",
    "X.to.the.power.of.Y(x = 3, y = 2)\n",
    "X.to.the.power.of.Y(3, 2)     # Following a question in class, note the difference."
   ]
  },
  {
   "cell_type": "markdown",
   "metadata": {},
   "source": [
    "###### Uses:\n",
    "- If we need to do some operation a lot later.\n",
    "- Work with apply( ) family.\n",
    "    - The 'FUN' argument in apply( ) family functions only take the name of the functions only.\n",
    "    - No arguments, operators or combinations of these allowed.\n",
    "\n",
    "###### Example: calculate the square of the score"
   ]
  },
  {
   "cell_type": "code",
   "execution_count": 65,
   "metadata": {},
   "outputs": [
    {
     "data": {
      "text/html": [
       "<table>\n",
       "<thead><tr><th scope=col>score</th><th scope=col>curved.score</th></tr></thead>\n",
       "<tbody>\n",
       "\t<tr><td>67</td><td>82</td></tr>\n",
       "\t<tr><td>56</td><td>75</td></tr>\n",
       "\t<tr><td>87</td><td>93</td></tr>\n",
       "\t<tr><td>91</td><td>95</td></tr>\n",
       "</tbody>\n",
       "</table>\n"
      ],
      "text/latex": [
       "\\begin{tabular}{r|ll}\n",
       " score & curved.score\\\\\n",
       "\\hline\n",
       "\t 67 & 82\\\\\n",
       "\t 56 & 75\\\\\n",
       "\t 87 & 93\\\\\n",
       "\t 91 & 95\\\\\n",
       "\\end{tabular}\n"
      ],
      "text/markdown": [
       "\n",
       "score | curved.score | \n",
       "|---|---|---|---|\n",
       "| 67 | 82 | \n",
       "| 56 | 75 | \n",
       "| 87 | 93 | \n",
       "| 91 | 95 | \n",
       "\n",
       "\n"
      ],
      "text/plain": [
       "  score curved.score\n",
       "1 67    82          \n",
       "2 56    75          \n",
       "3 87    93          \n",
       "4 91    95          "
      ]
     },
     "metadata": {},
     "output_type": "display_data"
    }
   ],
   "source": [
    "df.scores"
   ]
  },
  {
   "cell_type": "code",
   "execution_count": 66,
   "metadata": {},
   "outputs": [],
   "source": [
    "# The following code does not work\n",
    "# apply(df.scores, MARGIN = 2, FUN = ^2)"
   ]
  },
  {
   "cell_type": "code",
   "execution_count": 67,
   "metadata": {},
   "outputs": [
    {
     "data": {
      "text/html": [
       "<table>\n",
       "<thead><tr><th scope=col>score</th><th scope=col>curved.score</th></tr></thead>\n",
       "<tbody>\n",
       "\t<tr><td>4489</td><td>6724</td></tr>\n",
       "\t<tr><td>3136</td><td>5625</td></tr>\n",
       "\t<tr><td>7569</td><td>8649</td></tr>\n",
       "\t<tr><td>8281</td><td>9025</td></tr>\n",
       "</tbody>\n",
       "</table>\n"
      ],
      "text/latex": [
       "\\begin{tabular}{ll}\n",
       " score & curved.score\\\\\n",
       "\\hline\n",
       "\t 4489 & 6724\\\\\n",
       "\t 3136 & 5625\\\\\n",
       "\t 7569 & 8649\\\\\n",
       "\t 8281 & 9025\\\\\n",
       "\\end{tabular}\n"
      ],
      "text/markdown": [
       "\n",
       "score | curved.score | \n",
       "|---|---|---|---|\n",
       "| 4489 | 6724 | \n",
       "| 3136 | 5625 | \n",
       "| 7569 | 8649 | \n",
       "| 8281 | 9025 | \n",
       "\n",
       "\n"
      ],
      "text/plain": [
       "     score curved.score\n",
       "[1,] 4489  6724        \n",
       "[2,] 3136  5625        \n",
       "[3,] 7569  8649        \n",
       "[4,] 8281  9025        "
      ]
     },
     "metadata": {},
     "output_type": "display_data"
    }
   ],
   "source": [
    "# Instead we can do\n",
    "my.fun <- function(x){x^2}\n",
    "apply(df.scores, MARGIN = 2, FUN = my.fun)"
   ]
  },
  {
   "cell_type": "markdown",
   "metadata": {},
   "source": [
    "###### Exercise: write our own function to calculate x %% y and x %/% y.\n",
    "\n",
    "- Note how to return the output in function( ) and assess the results correspondingly."
   ]
  },
  {
   "cell_type": "code",
   "execution_count": 68,
   "metadata": {},
   "outputs": [
    {
     "name": "stdout",
     "output_type": "stream",
     "text": [
      "$modulus\n",
      "[1] 1\n",
      "\n",
      "$integer.division\n",
      "[1] 4\n",
      "\n",
      "List of 2\n",
      " $ modulus         : num 1\n",
      " $ integer.division: num 4\n"
     ]
    }
   ],
   "source": [
    "# Two inputs, y and x, so two arguments\n",
    "\n",
    "# Option 1 - use %% and %/% operators\n",
    "modulus1 <- function(y, x){\n",
    "    mod <- y %% x\n",
    "    int.div <- y %/% x\n",
    "    return(list(modulus=mod, integer.division=int.div))\n",
    "}\n",
    "out1 <- modulus1(y = 9, x = 2)\n",
    "print(out1)\n",
    "str(out1)"
   ]
  },
  {
   "cell_type": "code",
   "execution_count": 69,
   "metadata": {},
   "outputs": [
    {
     "data": {
      "text/html": [
       "1"
      ],
      "text/latex": [
       "1"
      ],
      "text/markdown": [
       "1"
      ],
      "text/plain": [
       "[1] 1"
      ]
     },
     "metadata": {},
     "output_type": "display_data"
    },
    {
     "data": {
      "text/html": [
       "4"
      ],
      "text/latex": [
       "4"
      ],
      "text/markdown": [
       "4"
      ],
      "text/plain": [
       "[1] 4"
      ]
     },
     "metadata": {},
     "output_type": "display_data"
    }
   ],
   "source": [
    "out1$modulus\n",
    "out1$integer.division"
   ]
  },
  {
   "cell_type": "code",
   "execution_count": 70,
   "metadata": {},
   "outputs": [
    {
     "name": "stdout",
     "output_type": "stream",
     "text": [
      "         modulus integer.division \n",
      "               4                1 \n",
      " Named num [1:2] 4 1\n",
      " - attr(*, \"names\")= chr [1:2] \"modulus\" \"integer.division\"\n"
     ]
    }
   ],
   "source": [
    "# Option 2 - use trunc() or floor()\n",
    "\n",
    "modulus2 <- function(y, x){\n",
    "    mod <- trunc(y/x)     # or floor(y/x)\n",
    "    int.div <- y - x * mod\n",
    "    return(c(modulus=mod, integer.division=int.div))\n",
    "}\n",
    "out2 <- modulus2(9, 2)\n",
    "print(out2)\n",
    "str(out2)"
   ]
  },
  {
   "cell_type": "code",
   "execution_count": 71,
   "metadata": {},
   "outputs": [
    {
     "data": {
      "text/html": [
       "<strong>modulus:</strong> 4"
      ],
      "text/latex": [
       "\\textbf{modulus:} 4"
      ],
      "text/markdown": [
       "**modulus:** 4"
      ],
      "text/plain": [
       "modulus \n",
       "      4 "
      ]
     },
     "metadata": {},
     "output_type": "display_data"
    },
    {
     "data": {
      "text/html": [
       "<strong>integer.division:</strong> 1"
      ],
      "text/latex": [
       "\\textbf{integer.division:} 1"
      ],
      "text/markdown": [
       "**integer.division:** 1"
      ],
      "text/plain": [
       "integer.division \n",
       "               1 "
      ]
     },
     "metadata": {},
     "output_type": "display_data"
    }
   ],
   "source": [
    "out2[1]\n",
    "out2[2]"
   ]
  },
  {
   "cell_type": "code",
   "execution_count": 72,
   "metadata": {},
   "outputs": [
    {
     "name": "stdout",
     "output_type": "stream",
     "text": [
      "modulus= 1 , Integer division= 4"
     ]
    }
   ],
   "source": [
    "# Option 3 - use loops\n",
    "\n",
    "modulus3 <- function(y, x){\n",
    "    i <- 0\n",
    "    while (y>=x){\n",
    "        y <- y - x\n",
    "        i <- i + 1\n",
    "    }\n",
    "    return(cat(\"modulus=\", y, \", Integer division=\", i)) # modulus\n",
    "}\n",
    "\n",
    "# I want modulus(y, x) to give me 'y mod x' for any integers y and x.\n",
    "out3 <- modulus3(9, 2)\n",
    "\n",
    "# Note that without printing out3, the result is already shown."
   ]
  },
  {
   "cell_type": "code",
   "execution_count": null,
   "metadata": {},
   "outputs": [],
   "source": []
  }
 ],
 "metadata": {
  "kernelspec": {
   "display_name": "R",
   "language": "R",
   "name": "ir"
  },
  "language_info": {
   "codemirror_mode": "r",
   "file_extension": ".r",
   "mimetype": "text/x-r-source",
   "name": "R",
   "pygments_lexer": "r",
   "version": "3.5.1"
  }
 },
 "nbformat": 4,
 "nbformat_minor": 2
}
