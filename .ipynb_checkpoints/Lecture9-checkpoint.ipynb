{
 "cells": [
  {
   "cell_type": "markdown",
   "metadata": {},
   "source": [
    "# Lecture 9: Basic statistical tests with R\n",
    "R provides a number of functions for statistical tests.\n",
    "\n",
    "#### In this lecture, we will learn how to perform simple statistical tests, including\n",
    "- Tests of means\n",
    "- Tests of variances\n",
    "- Tests of proportions\n",
    "- Tests of correlations\n",
    "\n",
    "<h3 style=\"color:Red;\">Again, we should not use these tests/functions as black boxes!!!</h3>\n",
    "\n",
    "- <b>The R tutorial should have ended.</b>\n",
    "    - I believe that I have taught all basic operations in R.\n",
    "    - And how to explore new functions and new packages.\n",
    "\n",
    "\n",
    "- <b>The material starting today's lecture is more theoretical. Please keep in mind that,</b>\n",
    "    - No test is magical - they all rely on assumptions and have limitations.\n",
    "    - I do <b>NOT</b> recommend using any of the tests without knowing the math.\n",
    "    - If you understand the theory, most tests can be done with basically any tool - other statistical softwares, other softwares, smart phone apps, calculators, pen & paper, brain, etc...\n",
    "    \n",
    "\n",
    "- <b>If this lecture does not go well...</b>"
   ]
  },
  {
   "cell_type": "markdown",
   "metadata": {},
   "source": [
    "## 9.0 Central limit theorem."
   ]
  },
  {
   "cell_type": "code",
   "execution_count": null,
   "metadata": {},
   "outputs": [],
   "source": []
  }
 ],
 "metadata": {
  "kernelspec": {
   "display_name": "R",
   "language": "R",
   "name": "ir"
  },
  "language_info": {
   "codemirror_mode": "r",
   "file_extension": ".r",
   "mimetype": "text/x-r-source",
   "name": "R",
   "pygments_lexer": "r",
   "version": "3.5.1"
  }
 },
 "nbformat": 4,
 "nbformat_minor": 2
}
