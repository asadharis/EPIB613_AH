{
 "cells": [
  {
   "cell_type": "markdown",
   "metadata": {},
   "source": [
    "# Lecture 3: An overview of R: Part II\n",
    "- Assess the values of an object\n",
    "- Enter or import data into R\n",
    "- Export data\n",
    "- Save and load data\n",
    "- View data."
   ]
  },
  {
   "cell_type": "markdown",
   "metadata": {},
   "source": [
    "###### Before we start.\n",
    "- I have been using print( ) to display R objects, which is totally redundant.\n",
    "- Because Jupyter Notebook has its own different beautiful display.\n",
    "- Jupyter is ideal for teaching - bigger display, live editing.\n",
    "- Hope you like it.\n",
    "- I am lazy and will not print( ) unless there is something I want to show you.\n",
    "- It does NOT make a difference for you."
   ]
  },
  {
   "cell_type": "code",
   "execution_count": 1,
   "metadata": {},
   "outputs": [
    {
     "data": {
      "text/html": [
       "<table>\n",
       "<thead><tr><th scope=col>names</th><th scope=col>score</th></tr></thead>\n",
       "<tbody>\n",
       "\t<tr><td>Lucy </td><td>67   </td></tr>\n",
       "\t<tr><td>John </td><td>56   </td></tr>\n",
       "\t<tr><td>Mark </td><td>87   </td></tr>\n",
       "\t<tr><td>Candy</td><td>91   </td></tr>\n",
       "</tbody>\n",
       "</table>\n"
      ],
      "text/latex": [
       "\\begin{tabular}{r|ll}\n",
       " names & score\\\\\n",
       "\\hline\n",
       "\t Lucy  & 67   \\\\\n",
       "\t John  & 56   \\\\\n",
       "\t Mark  & 87   \\\\\n",
       "\t Candy & 91   \\\\\n",
       "\\end{tabular}\n"
      ],
      "text/markdown": [
       "\n",
       "names | score | \n",
       "|---|---|---|---|\n",
       "| Lucy  | 67    | \n",
       "| John  | 56    | \n",
       "| Mark  | 87    | \n",
       "| Candy | 91    | \n",
       "\n",
       "\n"
      ],
      "text/plain": [
       "  names score\n",
       "1 Lucy  67   \n",
       "2 John  56   \n",
       "3 Mark  87   \n",
       "4 Candy 91   "
      ]
     },
     "metadata": {},
     "output_type": "display_data"
    }
   ],
   "source": [
    "df <- data.frame(names = c(\"Lucy\", \"John\", \"Mark\", \"Candy\"),\n",
    "                score = c(67, 56, 87, 91))\n",
    "df"
   ]
  },
  {
   "cell_type": "code",
   "execution_count": 2,
   "metadata": {},
   "outputs": [
    {
     "name": "stdout",
     "output_type": "stream",
     "text": [
      "  names score\n",
      "1  Lucy    67\n",
      "2  John    56\n",
      "3  Mark    87\n",
      "4 Candy    91\n"
     ]
    }
   ],
   "source": [
    "print(df)"
   ]
  },
  {
   "cell_type": "markdown",
   "metadata": {},
   "source": [
    "## 3.1 Assess the values of an object - the index system of R\n",
    "###### Key Operators are \"[ ]\" and \"$\"\n",
    "###### Recall object classes:\n",
    "- Vector\n",
    "- Matrix\n",
    "- Array\n",
    "    - Recall that these three are essentially the same thing.\n",
    "- Data frame\n",
    "- List\n",
    "    - (Factor)\n",
    "        - I wonder why [---] does not teach how to index a factor.\n",
    "\n",
    "###### Again, if you decide not to read [---], good! If you have to read it, proofread!\n",
    "\n",
    "### 3.1.1 Index a vector"
   ]
  },
  {
   "cell_type": "code",
   "execution_count": 3,
   "metadata": {
    "scrolled": false
   },
   "outputs": [
    {
     "data": {
      "text/html": [
       "<ol class=list-inline>\n",
       "\t<li>2</li>\n",
       "\t<li>3</li>\n",
       "\t<li>4</li>\n",
       "\t<li>5</li>\n",
       "\t<li>6</li>\n",
       "</ol>\n"
      ],
      "text/latex": [
       "\\begin{enumerate*}\n",
       "\\item 2\n",
       "\\item 3\n",
       "\\item 4\n",
       "\\item 5\n",
       "\\item 6\n",
       "\\end{enumerate*}\n"
      ],
      "text/markdown": [
       "1. 2\n",
       "2. 3\n",
       "3. 4\n",
       "4. 5\n",
       "5. 6\n",
       "\n",
       "\n"
      ],
      "text/plain": [
       "[1] 2 3 4 5 6"
      ]
     },
     "metadata": {},
     "output_type": "display_data"
    }
   ],
   "source": [
    "vector <- 2:6\n",
    "vector"
   ]
  },
  {
   "cell_type": "code",
   "execution_count": 4,
   "metadata": {},
   "outputs": [
    {
     "data": {
      "text/html": [
       "3"
      ],
      "text/latex": [
       "3"
      ],
      "text/markdown": [
       "3"
      ],
      "text/plain": [
       "[1] 3"
      ]
     },
     "metadata": {},
     "output_type": "display_data"
    }
   ],
   "source": [
    "# Pick the 2nd\n",
    "vector[2]"
   ]
  },
  {
   "cell_type": "code",
   "execution_count": 5,
   "metadata": {
    "scrolled": true
   },
   "outputs": [
    {
     "data": {
      "text/html": [
       "<ol class=list-inline>\n",
       "\t<li>3</li>\n",
       "\t<li>4</li>\n",
       "\t<li>5</li>\n",
       "</ol>\n"
      ],
      "text/latex": [
       "\\begin{enumerate*}\n",
       "\\item 3\n",
       "\\item 4\n",
       "\\item 5\n",
       "\\end{enumerate*}\n"
      ],
      "text/markdown": [
       "1. 3\n",
       "2. 4\n",
       "3. 5\n",
       "\n",
       "\n"
      ],
      "text/plain": [
       "[1] 3 4 5"
      ]
     },
     "metadata": {},
     "output_type": "display_data"
    }
   ],
   "source": [
    "# Pick 2nd - 4th\n",
    "vector[2:4]"
   ]
  },
  {
   "cell_type": "code",
   "execution_count": 6,
   "metadata": {
    "scrolled": true
   },
   "outputs": [
    {
     "data": {
      "text/html": [
       "<ol class=list-inline>\n",
       "\t<li>2</li>\n",
       "\t<li>4</li>\n",
       "\t<li>6</li>\n",
       "</ol>\n"
      ],
      "text/latex": [
       "\\begin{enumerate*}\n",
       "\\item 2\n",
       "\\item 4\n",
       "\\item 6\n",
       "\\end{enumerate*}\n"
      ],
      "text/markdown": [
       "1. 2\n",
       "2. 4\n",
       "3. 6\n",
       "\n",
       "\n"
      ],
      "text/plain": [
       "[1] 2 4 6"
      ]
     },
     "metadata": {},
     "output_type": "display_data"
    }
   ],
   "source": [
    "# Pick no. 1, 3, 5\n",
    "vector[c(1, 3, 5)]"
   ]
  },
  {
   "cell_type": "code",
   "execution_count": 7,
   "metadata": {},
   "outputs": [
    {
     "data": {
      "text/html": [
       "<ol class=list-inline>\n",
       "\t<li>2</li>\n",
       "\t<li>4</li>\n",
       "\t<li>6</li>\n",
       "</ol>\n"
      ],
      "text/latex": [
       "\\begin{enumerate*}\n",
       "\\item 2\n",
       "\\item 4\n",
       "\\item 6\n",
       "\\end{enumerate*}\n"
      ],
      "text/markdown": [
       "1. 2\n",
       "2. 4\n",
       "3. 6\n",
       "\n",
       "\n"
      ],
      "text/plain": [
       "[1] 2 4 6"
      ]
     },
     "metadata": {},
     "output_type": "display_data"
    }
   ],
   "source": [
    "# Code like a pro\n",
    "# This good practice makes it clearer for revisits and/or edits - Reproducibility!\n",
    "\n",
    "# Pick no. 1, 3, 5\n",
    "index <- c(1, 3, 5)\n",
    "\n",
    "vector[index]"
   ]
  },
  {
   "cell_type": "markdown",
   "metadata": {},
   "source": [
    "###### Use the names"
   ]
  },
  {
   "cell_type": "code",
   "execution_count": 8,
   "metadata": {},
   "outputs": [
    {
     "data": {
      "text/html": [
       "<dl class=dl-horizontal>\n",
       "\t<dt>b</dt>\n",
       "\t\t<dd>2</dd>\n",
       "\t<dt>c</dt>\n",
       "\t\t<dd>3</dd>\n",
       "\t<dt>d</dt>\n",
       "\t\t<dd>4</dd>\n",
       "\t<dt>e</dt>\n",
       "\t\t<dd>5</dd>\n",
       "\t<dt>f</dt>\n",
       "\t\t<dd>6</dd>\n",
       "</dl>\n"
      ],
      "text/latex": [
       "\\begin{description*}\n",
       "\\item[b] 2\n",
       "\\item[c] 3\n",
       "\\item[d] 4\n",
       "\\item[e] 5\n",
       "\\item[f] 6\n",
       "\\end{description*}\n"
      ],
      "text/markdown": [
       "b\n",
       ":   2c\n",
       ":   3d\n",
       ":   4e\n",
       ":   5f\n",
       ":   6\n",
       "\n"
      ],
      "text/plain": [
       "b c d e f \n",
       "2 3 4 5 6 "
      ]
     },
     "metadata": {},
     "output_type": "display_data"
    }
   ],
   "source": [
    "# Recall that we could give names to vector entries\n",
    "names(vector) <- letters[2:6]; vector"
   ]
  },
  {
   "cell_type": "code",
   "execution_count": 9,
   "metadata": {},
   "outputs": [
    {
     "data": {
      "text/html": [
       "<strong>b:</strong> 2"
      ],
      "text/latex": [
       "\\textbf{b:} 2"
      ],
      "text/markdown": [
       "**b:** 2"
      ],
      "text/plain": [
       "b \n",
       "2 "
      ]
     },
     "metadata": {},
     "output_type": "display_data"
    }
   ],
   "source": [
    "vector[\"b\"]"
   ]
  },
  {
   "cell_type": "markdown",
   "metadata": {},
   "source": [
    "###### Use \",\" to separate dimensions.\n",
    "- 1st dimension: row\n",
    "- 2nd dimension: column\n",
    "- 3rd ..."
   ]
  },
  {
   "cell_type": "markdown",
   "metadata": {},
   "source": [
    "### 3.1.2 Index a matrix"
   ]
  },
  {
   "cell_type": "code",
   "execution_count": 10,
   "metadata": {},
   "outputs": [
    {
     "name": "stdout",
     "output_type": "stream",
     "text": [
      "     [,1] [,2] [,3]\n",
      "[1,]    3    4    5\n",
      "[2,]    6    7    8\n",
      "[3,]    9   10   11\n",
      "[4,]   12   13   14\n"
     ]
    }
   ],
   "source": [
    "matrix <- matrix(c(3:14), nrow = 4, byrow = TRUE)\n",
    "print(matrix)"
   ]
  },
  {
   "cell_type": "code",
   "execution_count": 11,
   "metadata": {
    "scrolled": true
   },
   "outputs": [
    {
     "data": {
      "text/html": [
       "8"
      ],
      "text/latex": [
       "8"
      ],
      "text/markdown": [
       "8"
      ],
      "text/plain": [
       "[1] 8"
      ]
     },
     "metadata": {},
     "output_type": "display_data"
    }
   ],
   "source": [
    "matrix[2, 3]"
   ]
  },
  {
   "cell_type": "code",
   "execution_count": 12,
   "metadata": {},
   "outputs": [
    {
     "data": {
      "text/html": [
       "<ol class=list-inline>\n",
       "\t<li>6</li>\n",
       "\t<li>7</li>\n",
       "\t<li>8</li>\n",
       "</ol>\n"
      ],
      "text/latex": [
       "\\begin{enumerate*}\n",
       "\\item 6\n",
       "\\item 7\n",
       "\\item 8\n",
       "\\end{enumerate*}\n"
      ],
      "text/markdown": [
       "1. 6\n",
       "2. 7\n",
       "3. 8\n",
       "\n",
       "\n"
      ],
      "text/plain": [
       "[1] 6 7 8"
      ]
     },
     "metadata": {},
     "output_type": "display_data"
    }
   ],
   "source": [
    "matrix[2, ]"
   ]
  },
  {
   "cell_type": "code",
   "execution_count": 13,
   "metadata": {},
   "outputs": [
    {
     "data": {
      "text/html": [
       "<table>\n",
       "<tbody>\n",
       "\t<tr><td> 3</td><td> 5</td></tr>\n",
       "\t<tr><td> 6</td><td> 8</td></tr>\n",
       "\t<tr><td> 9</td><td>11</td></tr>\n",
       "\t<tr><td>12</td><td>14</td></tr>\n",
       "</tbody>\n",
       "</table>\n"
      ],
      "text/latex": [
       "\\begin{tabular}{ll}\n",
       "\t  3 &  5\\\\\n",
       "\t  6 &  8\\\\\n",
       "\t  9 & 11\\\\\n",
       "\t 12 & 14\\\\\n",
       "\\end{tabular}\n"
      ],
      "text/markdown": [
       "\n",
       "|  3 |  5 | \n",
       "|  6 |  8 | \n",
       "|  9 | 11 | \n",
       "| 12 | 14 | \n",
       "\n",
       "\n"
      ],
      "text/plain": [
       "     [,1] [,2]\n",
       "[1,]  3    5  \n",
       "[2,]  6    8  \n",
       "[3,]  9   11  \n",
       "[4,] 12   14  "
      ]
     },
     "metadata": {},
     "output_type": "display_data"
    }
   ],
   "source": [
    "matrix[ , c(1, 3)]"
   ]
  },
  {
   "cell_type": "markdown",
   "metadata": {},
   "source": [
    "###### Use the names"
   ]
  },
  {
   "cell_type": "code",
   "execution_count": 14,
   "metadata": {},
   "outputs": [
    {
     "name": "stdout",
     "output_type": "stream",
     "text": [
      "     col1 col2 col3\n",
      "row1    3    4    5\n",
      "row2    6    7    8\n",
      "row3    9   10   11\n",
      "row4   12   13   14\n"
     ]
    }
   ],
   "source": [
    "# Recall that we could give names to columns and rows\n",
    "rownames <- c(\"row1\", \"row2\", \"row3\", \"row4\")\n",
    "colnames <- c(\"col1\", \"col2\", \"col3\")\n",
    "rownames(matrix) <- rownames\n",
    "colnames(matrix) <- colnames\n",
    "print(matrix)"
   ]
  },
  {
   "cell_type": "code",
   "execution_count": 15,
   "metadata": {},
   "outputs": [
    {
     "data": {
      "text/html": [
       "<dl class=dl-horizontal>\n",
       "\t<dt>col1</dt>\n",
       "\t\t<dd>3</dd>\n",
       "\t<dt>col2</dt>\n",
       "\t\t<dd>4</dd>\n",
       "\t<dt>col3</dt>\n",
       "\t\t<dd>5</dd>\n",
       "</dl>\n"
      ],
      "text/latex": [
       "\\begin{description*}\n",
       "\\item[col1] 3\n",
       "\\item[col2] 4\n",
       "\\item[col3] 5\n",
       "\\end{description*}\n"
      ],
      "text/markdown": [
       "col1\n",
       ":   3col2\n",
       ":   4col3\n",
       ":   5\n",
       "\n"
      ],
      "text/plain": [
       "col1 col2 col3 \n",
       "   3    4    5 "
      ]
     },
     "metadata": {},
     "output_type": "display_data"
    }
   ],
   "source": [
    "matrix[\"row1\", ]\n",
    "# The output is a named vector as a result of dimension reduction"
   ]
  },
  {
   "cell_type": "code",
   "execution_count": 16,
   "metadata": {},
   "outputs": [
    {
     "data": {
      "text/html": [
       "8"
      ],
      "text/latex": [
       "8"
      ],
      "text/markdown": [
       "8"
      ],
      "text/plain": [
       "[1] 8"
      ]
     },
     "metadata": {},
     "output_type": "display_data"
    }
   ],
   "source": [
    "matrix[\"row2\", \"col3\"]"
   ]
  },
  {
   "cell_type": "markdown",
   "metadata": {},
   "source": [
    "### 3.1.3 Index an array"
   ]
  },
  {
   "cell_type": "code",
   "execution_count": 17,
   "metadata": {},
   "outputs": [
    {
     "name": "stdout",
     "output_type": "stream",
     "text": [
      ", , 1\n",
      "\n",
      "     [,1] [,2] [,3]\n",
      "[1,]    3    5    7\n",
      "[2,]    4    6    8\n",
      "\n",
      ", , 2\n",
      "\n",
      "     [,1] [,2] [,3]\n",
      "[1,]    9   11   13\n",
      "[2,]   10   12   14\n",
      "\n"
     ]
    }
   ],
   "source": [
    "array <- array(3:14, dim = c(2, 3, 2))\n",
    "print(array)"
   ]
  },
  {
   "cell_type": "code",
   "execution_count": 18,
   "metadata": {},
   "outputs": [
    {
     "data": {
      "text/html": [
       "<table>\n",
       "<tbody>\n",
       "\t<tr><td>3</td><td>5</td><td>7</td></tr>\n",
       "\t<tr><td>4</td><td>6</td><td>8</td></tr>\n",
       "</tbody>\n",
       "</table>\n"
      ],
      "text/latex": [
       "\\begin{tabular}{lll}\n",
       "\t 3 & 5 & 7\\\\\n",
       "\t 4 & 6 & 8\\\\\n",
       "\\end{tabular}\n"
      ],
      "text/markdown": [
       "\n",
       "| 3 | 5 | 7 | \n",
       "| 4 | 6 | 8 | \n",
       "\n",
       "\n"
      ],
      "text/plain": [
       "     [,1] [,2] [,3]\n",
       "[1,] 3    5    7   \n",
       "[2,] 4    6    8   "
      ]
     },
     "metadata": {},
     "output_type": "display_data"
    }
   ],
   "source": [
    "array[ , , 1]"
   ]
  },
  {
   "cell_type": "code",
   "execution_count": 19,
   "metadata": {},
   "outputs": [
    {
     "data": {
      "text/html": [
       "14"
      ],
      "text/latex": [
       "14"
      ],
      "text/markdown": [
       "14"
      ],
      "text/plain": [
       "[1] 14"
      ]
     },
     "metadata": {},
     "output_type": "display_data"
    }
   ],
   "source": [
    "array[2, 3, 2]"
   ]
  },
  {
   "cell_type": "code",
   "execution_count": 20,
   "metadata": {},
   "outputs": [
    {
     "data": {
      "text/html": [
       "<ol class=list-inline>\n",
       "\t<li>9</li>\n",
       "\t<li>11</li>\n",
       "\t<li>13</li>\n",
       "</ol>\n"
      ],
      "text/latex": [
       "\\begin{enumerate*}\n",
       "\\item 9\n",
       "\\item 11\n",
       "\\item 13\n",
       "\\end{enumerate*}\n"
      ],
      "text/markdown": [
       "1. 9\n",
       "2. 11\n",
       "3. 13\n",
       "\n",
       "\n"
      ],
      "text/plain": [
       "[1]  9 11 13"
      ]
     },
     "metadata": {},
     "output_type": "display_data"
    }
   ],
   "source": [
    "array[1, , 2]"
   ]
  },
  {
   "cell_type": "markdown",
   "metadata": {},
   "source": [
    "### 3.1.4 Index a data frame"
   ]
  },
  {
   "cell_type": "code",
   "execution_count": 21,
   "metadata": {},
   "outputs": [
    {
     "name": "stdout",
     "output_type": "stream",
     "text": [
      "  names score\n",
      "1  Lucy    67\n",
      "2  John    56\n",
      "3  Mark    87\n",
      "4 Candy    91\n"
     ]
    }
   ],
   "source": [
    "print(df)"
   ]
  },
  {
   "cell_type": "code",
   "execution_count": 22,
   "metadata": {
    "scrolled": false
   },
   "outputs": [
    {
     "data": {
      "text/html": [
       "<table>\n",
       "<thead><tr><th></th><th scope=col>names</th><th scope=col>score</th></tr></thead>\n",
       "<tbody>\n",
       "\t<tr><th scope=row>2</th><td>John</td><td>56  </td></tr>\n",
       "</tbody>\n",
       "</table>\n"
      ],
      "text/latex": [
       "\\begin{tabular}{r|ll}\n",
       "  & names & score\\\\\n",
       "\\hline\n",
       "\t2 & John & 56  \\\\\n",
       "\\end{tabular}\n"
      ],
      "text/markdown": [
       "\n",
       "| <!--/--> | names | score | \n",
       "|---|\n",
       "| 2 | John | 56   | \n",
       "\n",
       "\n"
      ],
      "text/plain": [
       "  names score\n",
       "2 John  56   "
      ]
     },
     "metadata": {},
     "output_type": "display_data"
    }
   ],
   "source": [
    "df[2, ]"
   ]
  },
  {
   "cell_type": "code",
   "execution_count": 23,
   "metadata": {},
   "outputs": [
    {
     "data": {
      "text/html": [
       "<ol class=list-inline>\n",
       "\t<li>Lucy</li>\n",
       "\t<li>John</li>\n",
       "\t<li>Mark</li>\n",
       "\t<li>Candy</li>\n",
       "</ol>\n",
       "\n",
       "<details>\n",
       "\t<summary style=display:list-item;cursor:pointer>\n",
       "\t\t<strong>Levels</strong>:\n",
       "\t</summary>\n",
       "\t<ol class=list-inline>\n",
       "\t\t<li>'Candy'</li>\n",
       "\t\t<li>'John'</li>\n",
       "\t\t<li>'Lucy'</li>\n",
       "\t\t<li>'Mark'</li>\n",
       "\t</ol>\n",
       "</details>"
      ],
      "text/latex": [
       "\\begin{enumerate*}\n",
       "\\item Lucy\n",
       "\\item John\n",
       "\\item Mark\n",
       "\\item Candy\n",
       "\\end{enumerate*}\n",
       "\n",
       "\\emph{Levels}: \\begin{enumerate*}\n",
       "\\item 'Candy'\n",
       "\\item 'John'\n",
       "\\item 'Lucy'\n",
       "\\item 'Mark'\n",
       "\\end{enumerate*}\n"
      ],
      "text/markdown": [
       "1. Lucy\n",
       "2. John\n",
       "3. Mark\n",
       "4. Candy\n",
       "\n",
       "\n",
       "\n",
       "**Levels**: 1. 'Candy'\n",
       "2. 'John'\n",
       "3. 'Lucy'\n",
       "4. 'Mark'\n",
       "\n",
       "\n"
      ],
      "text/plain": [
       "[1] Lucy  John  Mark  Candy\n",
       "Levels: Candy John Lucy Mark"
      ]
     },
     "metadata": {},
     "output_type": "display_data"
    }
   ],
   "source": [
    "df[ , 1]"
   ]
  },
  {
   "cell_type": "markdown",
   "metadata": {},
   "source": [
    "###### Use the names"
   ]
  },
  {
   "cell_type": "code",
   "execution_count": 24,
   "metadata": {
    "scrolled": true
   },
   "outputs": [
    {
     "data": {
      "text/html": [
       "<ol class=list-inline>\n",
       "\t<li>'names'</li>\n",
       "\t<li>'score'</li>\n",
       "</ol>\n"
      ],
      "text/latex": [
       "\\begin{enumerate*}\n",
       "\\item 'names'\n",
       "\\item 'score'\n",
       "\\end{enumerate*}\n"
      ],
      "text/markdown": [
       "1. 'names'\n",
       "2. 'score'\n",
       "\n",
       "\n"
      ],
      "text/plain": [
       "[1] \"names\" \"score\""
      ]
     },
     "metadata": {},
     "output_type": "display_data"
    }
   ],
   "source": [
    "# There are (column) names that are ready to use in data frames.\n",
    "names(df)"
   ]
  },
  {
   "cell_type": "code",
   "execution_count": 25,
   "metadata": {
    "scrolled": true
   },
   "outputs": [
    {
     "data": {
      "text/html": [
       "<ol class=list-inline>\n",
       "\t<li>Lucy</li>\n",
       "\t<li>John</li>\n",
       "\t<li>Mark</li>\n",
       "\t<li>Candy</li>\n",
       "</ol>\n",
       "\n",
       "<details>\n",
       "\t<summary style=display:list-item;cursor:pointer>\n",
       "\t\t<strong>Levels</strong>:\n",
       "\t</summary>\n",
       "\t<ol class=list-inline>\n",
       "\t\t<li>'Candy'</li>\n",
       "\t\t<li>'John'</li>\n",
       "\t\t<li>'Lucy'</li>\n",
       "\t\t<li>'Mark'</li>\n",
       "\t</ol>\n",
       "</details>"
      ],
      "text/latex": [
       "\\begin{enumerate*}\n",
       "\\item Lucy\n",
       "\\item John\n",
       "\\item Mark\n",
       "\\item Candy\n",
       "\\end{enumerate*}\n",
       "\n",
       "\\emph{Levels}: \\begin{enumerate*}\n",
       "\\item 'Candy'\n",
       "\\item 'John'\n",
       "\\item 'Lucy'\n",
       "\\item 'Mark'\n",
       "\\end{enumerate*}\n"
      ],
      "text/markdown": [
       "1. Lucy\n",
       "2. John\n",
       "3. Mark\n",
       "4. Candy\n",
       "\n",
       "\n",
       "\n",
       "**Levels**: 1. 'Candy'\n",
       "2. 'John'\n",
       "3. 'Lucy'\n",
       "4. 'Mark'\n",
       "\n",
       "\n"
      ],
      "text/plain": [
       "[1] Lucy  John  Mark  Candy\n",
       "Levels: Candy John Lucy Mark"
      ]
     },
     "metadata": {},
     "output_type": "display_data"
    }
   ],
   "source": [
    "df$names"
   ]
  },
  {
   "cell_type": "markdown",
   "metadata": {},
   "source": [
    "###### Very useful stuff that are not in [---]."
   ]
  },
  {
   "cell_type": "code",
   "execution_count": 26,
   "metadata": {},
   "outputs": [
    {
     "data": {
      "text/html": [
       "<table>\n",
       "<thead><tr><th></th><th scope=col>names</th><th scope=col>score</th></tr></thead>\n",
       "<tbody>\n",
       "\t<tr><th scope=row>2</th><td>John</td><td>56  </td></tr>\n",
       "</tbody>\n",
       "</table>\n"
      ],
      "text/latex": [
       "\\begin{tabular}{r|ll}\n",
       "  & names & score\\\\\n",
       "\\hline\n",
       "\t2 & John & 56  \\\\\n",
       "\\end{tabular}\n"
      ],
      "text/markdown": [
       "\n",
       "| <!--/--> | names | score | \n",
       "|---|\n",
       "| 2 | John | 56   | \n",
       "\n",
       "\n"
      ],
      "text/plain": [
       "  names score\n",
       "2 John  56   "
      ]
     },
     "metadata": {},
     "output_type": "display_data"
    }
   ],
   "source": [
    "# What is John's score?\n",
    "df[df$names == \"John\", ]"
   ]
  },
  {
   "cell_type": "code",
   "execution_count": 27,
   "metadata": {},
   "outputs": [
    {
     "name": "stdout",
     "output_type": "stream",
     "text": [
      "[1] names score\n",
      "<0 rows> (or 0-length row.names)\n"
     ]
    }
   ],
   "source": [
    "# Anyone scored 100?\n",
    "print(df[df$score == 100, ])"
   ]
  },
  {
   "cell_type": "code",
   "execution_count": 28,
   "metadata": {},
   "outputs": [
    {
     "data": {
      "text/html": [
       "91"
      ],
      "text/latex": [
       "91"
      ],
      "text/markdown": [
       "91"
      ],
      "text/plain": [
       "[1] 91"
      ]
     },
     "metadata": {},
     "output_type": "display_data"
    }
   ],
   "source": [
    "# Highest score?\n",
    "max(df$score)     # max() for maximum"
   ]
  },
  {
   "cell_type": "code",
   "execution_count": 29,
   "metadata": {
    "scrolled": true
   },
   "outputs": [
    {
     "data": {
      "text/html": [
       "<table>\n",
       "<thead><tr><th></th><th scope=col>names</th><th scope=col>score</th></tr></thead>\n",
       "<tbody>\n",
       "\t<tr><th scope=row>4</th><td>Candy</td><td>91   </td></tr>\n",
       "</tbody>\n",
       "</table>\n"
      ],
      "text/latex": [
       "\\begin{tabular}{r|ll}\n",
       "  & names & score\\\\\n",
       "\\hline\n",
       "\t4 & Candy & 91   \\\\\n",
       "\\end{tabular}\n"
      ],
      "text/markdown": [
       "\n",
       "| <!--/--> | names | score | \n",
       "|---|\n",
       "| 4 | Candy | 91    | \n",
       "\n",
       "\n"
      ],
      "text/plain": [
       "  names score\n",
       "4 Candy 91   "
      ]
     },
     "metadata": {},
     "output_type": "display_data"
    }
   ],
   "source": [
    "# Who had the highes score?\n",
    "df[df$score == max(df$score), ]"
   ]
  },
  {
   "cell_type": "code",
   "execution_count": 30,
   "metadata": {
    "scrolled": true
   },
   "outputs": [
    {
     "data": {
      "text/html": [
       "Candy\n",
       "<details>\n",
       "\t<summary style=display:list-item;cursor:pointer>\n",
       "\t\t<strong>Levels</strong>:\n",
       "\t</summary>\n",
       "\t<ol class=list-inline>\n",
       "\t\t<li>'Candy'</li>\n",
       "\t\t<li>'John'</li>\n",
       "\t\t<li>'Lucy'</li>\n",
       "\t\t<li>'Mark'</li>\n",
       "\t</ol>\n",
       "</details>"
      ],
      "text/latex": [
       "Candy\n",
       "\\emph{Levels}: \\begin{enumerate*}\n",
       "\\item 'Candy'\n",
       "\\item 'John'\n",
       "\\item 'Lucy'\n",
       "\\item 'Mark'\n",
       "\\end{enumerate*}\n"
      ],
      "text/markdown": [
       "Candy\n",
       "**Levels**: 1. 'Candy'\n",
       "2. 'John'\n",
       "3. 'Lucy'\n",
       "4. 'Mark'\n",
       "\n",
       "\n"
      ],
      "text/plain": [
       "[1] Candy\n",
       "Levels: Candy John Lucy Mark"
      ]
     },
     "metadata": {},
     "output_type": "display_data"
    }
   ],
   "source": [
    "# Just give me the name!\n",
    "df[df$score == max(df$score), ]$names"
   ]
  },
  {
   "cell_type": "markdown",
   "metadata": {},
   "source": [
    "### 3.1.5 Index a list"
   ]
  },
  {
   "cell_type": "code",
   "execution_count": 31,
   "metadata": {},
   "outputs": [
    {
     "name": "stdout",
     "output_type": "stream",
     "text": [
      "[[1]]\n",
      "[1] \"Red\"\n",
      "\n",
      "[[2]]\n",
      "[1] a b\n",
      "Levels: a b\n",
      "\n",
      "[[3]]\n",
      "[1] 21 32 11\n",
      "\n",
      "[[4]]\n",
      "[1] TRUE\n",
      "\n"
     ]
    }
   ],
   "source": [
    "list <- list(\"Red\", factor(c(\"a\",\"b\")), c(21,32,11), TRUE)\n",
    "print(list)"
   ]
  },
  {
   "cell_type": "code",
   "execution_count": 32,
   "metadata": {},
   "outputs": [
    {
     "data": {
      "text/html": [
       "'Red'"
      ],
      "text/latex": [
       "'Red'"
      ],
      "text/markdown": [
       "'Red'"
      ],
      "text/plain": [
       "[1] \"Red\""
      ]
     },
     "metadata": {},
     "output_type": "display_data"
    }
   ],
   "source": [
    "list[[1]]"
   ]
  },
  {
   "cell_type": "code",
   "execution_count": 33,
   "metadata": {
    "scrolled": true
   },
   "outputs": [
    {
     "data": {
      "text/html": [
       "32"
      ],
      "text/latex": [
       "32"
      ],
      "text/markdown": [
       "32"
      ],
      "text/plain": [
       "[1] 32"
      ]
     },
     "metadata": {},
     "output_type": "display_data"
    }
   ],
   "source": [
    "list[[3]][2]"
   ]
  },
  {
   "cell_type": "markdown",
   "metadata": {},
   "source": [
    "## 3.2 Enter or import data into R\n",
    "Here we talk about importing data frames.\n",
    "### 3.2.1 Direct data entering\n",
    "Recall the data.frame( ) function. See the first code chunk of this lecture."
   ]
  },
  {
   "cell_type": "markdown",
   "metadata": {},
   "source": [
    "### 3.2.2 Use datasets that come with R or R packages\n",
    "Many R packages come with datasets that help explain how the packages and functions work, including those already installed when you download R and those already loaded everytime you open R."
   ]
  },
  {
   "cell_type": "code",
   "execution_count": 34,
   "metadata": {},
   "outputs": [
    {
     "data": {
      "text/html": [
       "<table>\n",
       "<thead><tr><th></th><th scope=col>mpg</th><th scope=col>cyl</th><th scope=col>disp</th><th scope=col>hp</th><th scope=col>drat</th><th scope=col>wt</th><th scope=col>qsec</th><th scope=col>vs</th><th scope=col>am</th><th scope=col>gear</th><th scope=col>carb</th></tr></thead>\n",
       "<tbody>\n",
       "\t<tr><th scope=row>Mazda RX4</th><td>21.0 </td><td>6    </td><td>160  </td><td>110  </td><td>3.90 </td><td>2.620</td><td>16.46</td><td>0    </td><td>1    </td><td>4    </td><td>4    </td></tr>\n",
       "\t<tr><th scope=row>Mazda RX4 Wag</th><td>21.0 </td><td>6    </td><td>160  </td><td>110  </td><td>3.90 </td><td>2.875</td><td>17.02</td><td>0    </td><td>1    </td><td>4    </td><td>4    </td></tr>\n",
       "\t<tr><th scope=row>Datsun 710</th><td>22.8 </td><td>4    </td><td>108  </td><td> 93  </td><td>3.85 </td><td>2.320</td><td>18.61</td><td>1    </td><td>1    </td><td>4    </td><td>1    </td></tr>\n",
       "\t<tr><th scope=row>Hornet 4 Drive</th><td>21.4 </td><td>6    </td><td>258  </td><td>110  </td><td>3.08 </td><td>3.215</td><td>19.44</td><td>1    </td><td>0    </td><td>3    </td><td>1    </td></tr>\n",
       "\t<tr><th scope=row>Hornet Sportabout</th><td>18.7 </td><td>8    </td><td>360  </td><td>175  </td><td>3.15 </td><td>3.440</td><td>17.02</td><td>0    </td><td>0    </td><td>3    </td><td>2    </td></tr>\n",
       "\t<tr><th scope=row>Valiant</th><td>18.1 </td><td>6    </td><td>225  </td><td>105  </td><td>2.76 </td><td>3.460</td><td>20.22</td><td>1    </td><td>0    </td><td>3    </td><td>1    </td></tr>\n",
       "</tbody>\n",
       "</table>\n"
      ],
      "text/latex": [
       "\\begin{tabular}{r|lllllllllll}\n",
       "  & mpg & cyl & disp & hp & drat & wt & qsec & vs & am & gear & carb\\\\\n",
       "\\hline\n",
       "\tMazda RX4 & 21.0  & 6     & 160   & 110   & 3.90  & 2.620 & 16.46 & 0     & 1     & 4     & 4    \\\\\n",
       "\tMazda RX4 Wag & 21.0  & 6     & 160   & 110   & 3.90  & 2.875 & 17.02 & 0     & 1     & 4     & 4    \\\\\n",
       "\tDatsun 710 & 22.8  & 4     & 108   &  93   & 3.85  & 2.320 & 18.61 & 1     & 1     & 4     & 1    \\\\\n",
       "\tHornet 4 Drive & 21.4  & 6     & 258   & 110   & 3.08  & 3.215 & 19.44 & 1     & 0     & 3     & 1    \\\\\n",
       "\tHornet Sportabout & 18.7  & 8     & 360   & 175   & 3.15  & 3.440 & 17.02 & 0     & 0     & 3     & 2    \\\\\n",
       "\tValiant & 18.1  & 6     & 225   & 105   & 2.76  & 3.460 & 20.22 & 1     & 0     & 3     & 1    \\\\\n",
       "\\end{tabular}\n"
      ],
      "text/markdown": [
       "\n",
       "| <!--/--> | mpg | cyl | disp | hp | drat | wt | qsec | vs | am | gear | carb | \n",
       "|---|---|---|---|---|---|\n",
       "| Mazda RX4 | 21.0  | 6     | 160   | 110   | 3.90  | 2.620 | 16.46 | 0     | 1     | 4     | 4     | \n",
       "| Mazda RX4 Wag | 21.0  | 6     | 160   | 110   | 3.90  | 2.875 | 17.02 | 0     | 1     | 4     | 4     | \n",
       "| Datsun 710 | 22.8  | 4     | 108   |  93   | 3.85  | 2.320 | 18.61 | 1     | 1     | 4     | 1     | \n",
       "| Hornet 4 Drive | 21.4  | 6     | 258   | 110   | 3.08  | 3.215 | 19.44 | 1     | 0     | 3     | 1     | \n",
       "| Hornet Sportabout | 18.7  | 8     | 360   | 175   | 3.15  | 3.440 | 17.02 | 0     | 0     | 3     | 2     | \n",
       "| Valiant | 18.1  | 6     | 225   | 105   | 2.76  | 3.460 | 20.22 | 1     | 0     | 3     | 1     | \n",
       "\n",
       "\n"
      ],
      "text/plain": [
       "                  mpg  cyl disp hp  drat wt    qsec  vs am gear carb\n",
       "Mazda RX4         21.0 6   160  110 3.90 2.620 16.46 0  1  4    4   \n",
       "Mazda RX4 Wag     21.0 6   160  110 3.90 2.875 17.02 0  1  4    4   \n",
       "Datsun 710        22.8 4   108   93 3.85 2.320 18.61 1  1  4    1   \n",
       "Hornet 4 Drive    21.4 6   258  110 3.08 3.215 19.44 1  0  3    1   \n",
       "Hornet Sportabout 18.7 8   360  175 3.15 3.440 17.02 0  0  3    2   \n",
       "Valiant           18.1 6   225  105 2.76 3.460 20.22 1  0  3    1   "
      ]
     },
     "metadata": {},
     "output_type": "display_data"
    }
   ],
   "source": [
    "head(mtcars)"
   ]
  },
  {
   "cell_type": "code",
   "execution_count": 35,
   "metadata": {},
   "outputs": [],
   "source": [
    "data() # Shows all datasets that are always available to you."
   ]
  },
  {
   "cell_type": "markdown",
   "metadata": {},
   "source": [
    "Some require loading the package that they are in."
   ]
  },
  {
   "cell_type": "code",
   "execution_count": 36,
   "metadata": {},
   "outputs": [
    {
     "data": {
      "text/html": [
       "<table>\n",
       "<thead><tr><th scope=col>inst</th><th scope=col>time</th><th scope=col>status</th><th scope=col>age</th><th scope=col>sex</th><th scope=col>ph.ecog</th><th scope=col>ph.karno</th><th scope=col>pat.karno</th><th scope=col>meal.cal</th><th scope=col>wt.loss</th></tr></thead>\n",
       "<tbody>\n",
       "\t<tr><td> 3  </td><td> 306</td><td>2   </td><td>74  </td><td>1   </td><td>1   </td><td> 90 </td><td>100 </td><td>1175</td><td>NA  </td></tr>\n",
       "\t<tr><td> 3  </td><td> 455</td><td>2   </td><td>68  </td><td>1   </td><td>0   </td><td> 90 </td><td> 90 </td><td>1225</td><td>15  </td></tr>\n",
       "\t<tr><td> 3  </td><td>1010</td><td>1   </td><td>56  </td><td>1   </td><td>0   </td><td> 90 </td><td> 90 </td><td>  NA</td><td>15  </td></tr>\n",
       "\t<tr><td> 5  </td><td> 210</td><td>2   </td><td>57  </td><td>1   </td><td>1   </td><td> 90 </td><td> 60 </td><td>1150</td><td>11  </td></tr>\n",
       "\t<tr><td> 1  </td><td> 883</td><td>2   </td><td>60  </td><td>1   </td><td>0   </td><td>100 </td><td> 90 </td><td>  NA</td><td> 0  </td></tr>\n",
       "\t<tr><td>12  </td><td>1022</td><td>1   </td><td>74  </td><td>1   </td><td>1   </td><td> 50 </td><td> 80 </td><td> 513</td><td> 0  </td></tr>\n",
       "</tbody>\n",
       "</table>\n"
      ],
      "text/latex": [
       "\\begin{tabular}{r|llllllllll}\n",
       " inst & time & status & age & sex & ph.ecog & ph.karno & pat.karno & meal.cal & wt.loss\\\\\n",
       "\\hline\n",
       "\t  3   &  306 & 2    & 74   & 1    & 1    &  90  & 100  & 1175 & NA  \\\\\n",
       "\t  3   &  455 & 2    & 68   & 1    & 0    &  90  &  90  & 1225 & 15  \\\\\n",
       "\t  3   & 1010 & 1    & 56   & 1    & 0    &  90  &  90  &   NA & 15  \\\\\n",
       "\t  5   &  210 & 2    & 57   & 1    & 1    &  90  &  60  & 1150 & 11  \\\\\n",
       "\t  1   &  883 & 2    & 60   & 1    & 0    & 100  &  90  &   NA &  0  \\\\\n",
       "\t 12   & 1022 & 1    & 74   & 1    & 1    &  50  &  80  &  513 &  0  \\\\\n",
       "\\end{tabular}\n"
      ],
      "text/markdown": [
       "\n",
       "inst | time | status | age | sex | ph.ecog | ph.karno | pat.karno | meal.cal | wt.loss | \n",
       "|---|---|---|---|---|---|\n",
       "|  3   |  306 | 2    | 74   | 1    | 1    |  90  | 100  | 1175 | NA   | \n",
       "|  3   |  455 | 2    | 68   | 1    | 0    |  90  |  90  | 1225 | 15   | \n",
       "|  3   | 1010 | 1    | 56   | 1    | 0    |  90  |  90  |   NA | 15   | \n",
       "|  5   |  210 | 2    | 57   | 1    | 1    |  90  |  60  | 1150 | 11   | \n",
       "|  1   |  883 | 2    | 60   | 1    | 0    | 100  |  90  |   NA |  0   | \n",
       "| 12   | 1022 | 1    | 74   | 1    | 1    |  50  |  80  |  513 |  0   | \n",
       "\n",
       "\n"
      ],
      "text/plain": [
       "  inst time status age sex ph.ecog ph.karno pat.karno meal.cal wt.loss\n",
       "1  3    306 2      74  1   1        90      100       1175     NA     \n",
       "2  3    455 2      68  1   0        90       90       1225     15     \n",
       "3  3   1010 1      56  1   0        90       90         NA     15     \n",
       "4  5    210 2      57  1   1        90       60       1150     11     \n",
       "5  1    883 2      60  1   0       100       90         NA      0     \n",
       "6 12   1022 1      74  1   1        50       80        513      0     "
      ]
     },
     "metadata": {},
     "output_type": "display_data"
    }
   ],
   "source": [
    "# head(cancer)       # Run this line before loading the 'survival' package will result in error.\n",
    "library(survival)\n",
    "head(cancer)"
   ]
  },
  {
   "cell_type": "markdown",
   "metadata": {},
   "source": [
    "### 3.2.3 Read data files\n",
    "It is necessary to import data into R before we start working on our analysis. R offers a wide range of packages for importing data in any format. Some functions are available by default: read.table( ), read.csv( ), read.csv2( ), read.delim( ) and read.delim2( ). There are also a number of packages that will read files from Excel, SPSS, SAS, Stata, and various relational databases."
   ]
  },
  {
   "cell_type": "code",
   "execution_count": 37,
   "metadata": {},
   "outputs": [],
   "source": [
    "?read.table"
   ]
  },
  {
   "cell_type": "markdown",
   "metadata": {},
   "source": [
    "###### Example command\n",
    "data <- read.table(file, header = TRUE, sep = \",\", quote = \"\\\"\", dec = \".\", fill = TRUE, comment.char = \"\")\n",
    "- file: A local file with complete path or a URL\n",
    "- header: Whether use the first row as the name of the columns\n",
    "- sep: What separates the entries\n",
    "- ..."
   ]
  },
  {
   "cell_type": "code",
   "execution_count": 41,
   "metadata": {},
   "outputs": [
    {
     "data": {
      "text/html": [
       "<ol class=list-inline>\n",
       "\t<li>100</li>\n",
       "\t<li>2</li>\n",
       "</ol>\n"
      ],
      "text/latex": [
       "\\begin{enumerate*}\n",
       "\\item 100\n",
       "\\item 2\n",
       "\\end{enumerate*}\n"
      ],
      "text/markdown": [
       "1. 100\n",
       "2. 2\n",
       "\n",
       "\n"
      ],
      "text/plain": [
       "[1] 100   2"
      ]
     },
     "metadata": {},
     "output_type": "display_data"
    }
   ],
   "source": [
    "x <- read.table(file = \"https://rllabmcgill.github.io/COMP-652/assignments/hw1-q1x.csv\", header = FALSE)\n",
    "dim(x)"
   ]
  },
  {
   "cell_type": "code",
   "execution_count": 42,
   "metadata": {},
   "outputs": [
    {
     "data": {
      "text/html": [
       "<table>\n",
       "<thead><tr><th scope=col>V1</th><th scope=col>V2</th></tr></thead>\n",
       "<tbody>\n",
       "\t<tr><td>-1.0326997</td><td> 4.998879 </td></tr>\n",
       "\t<tr><td> 6.1814855</td><td> 4.385308 </td></tr>\n",
       "\t<tr><td> 6.1754709</td><td>-1.663962 </td></tr>\n",
       "\t<tr><td> 5.2243959</td><td>-1.311939 </td></tr>\n",
       "\t<tr><td>-0.5013456</td><td> 1.195997 </td></tr>\n",
       "\t<tr><td> 4.5960525</td><td> 3.308643 </td></tr>\n",
       "</tbody>\n",
       "</table>\n"
      ],
      "text/latex": [
       "\\begin{tabular}{r|ll}\n",
       " V1 & V2\\\\\n",
       "\\hline\n",
       "\t -1.0326997 &  4.998879 \\\\\n",
       "\t  6.1814855 &  4.385308 \\\\\n",
       "\t  6.1754709 & -1.663962 \\\\\n",
       "\t  5.2243959 & -1.311939 \\\\\n",
       "\t -0.5013456 &  1.195997 \\\\\n",
       "\t  4.5960525 &  3.308643 \\\\\n",
       "\\end{tabular}\n"
      ],
      "text/markdown": [
       "\n",
       "V1 | V2 | \n",
       "|---|---|---|---|---|---|\n",
       "| -1.0326997 |  4.998879  | \n",
       "|  6.1814855 |  4.385308  | \n",
       "|  6.1754709 | -1.663962  | \n",
       "|  5.2243959 | -1.311939  | \n",
       "| -0.5013456 |  1.195997  | \n",
       "|  4.5960525 |  3.308643  | \n",
       "\n",
       "\n"
      ],
      "text/plain": [
       "  V1         V2       \n",
       "1 -1.0326997  4.998879\n",
       "2  6.1814855  4.385308\n",
       "3  6.1754709 -1.663962\n",
       "4  5.2243959 -1.311939\n",
       "5 -0.5013456  1.195997\n",
       "6  4.5960525  3.308643"
      ]
     },
     "metadata": {},
     "output_type": "display_data"
    }
   ],
   "source": [
    "head(x)"
   ]
  },
  {
   "cell_type": "code",
   "execution_count": 44,
   "metadata": {},
   "outputs": [
    {
     "data": {
      "text/html": [
       "<ol class=list-inline>\n",
       "\t<li>99</li>\n",
       "\t<li>2</li>\n",
       "</ol>\n"
      ],
      "text/latex": [
       "\\begin{enumerate*}\n",
       "\\item 99\n",
       "\\item 2\n",
       "\\end{enumerate*}\n"
      ],
      "text/markdown": [
       "1. 99\n",
       "2. 2\n",
       "\n",
       "\n"
      ],
      "text/plain": [
       "[1] 99  2"
      ]
     },
     "metadata": {},
     "output_type": "display_data"
    }
   ],
   "source": [
    "xx <- read.table(file = \"https://rllabmcgill.github.io/COMP-652/assignments/hw1-q1x.csv\", header = TRUE)\n",
    "dim(xx)"
   ]
  },
  {
   "cell_type": "code",
   "execution_count": 45,
   "metadata": {},
   "outputs": [
    {
     "data": {
      "text/html": [
       "<table>\n",
       "<thead><tr><th scope=col>X.1.0326997e.00</th><th scope=col>X4.9988785e.00</th></tr></thead>\n",
       "<tbody>\n",
       "\t<tr><td> 6.1814855</td><td> 4.385308 </td></tr>\n",
       "\t<tr><td> 6.1754709</td><td>-1.663962 </td></tr>\n",
       "\t<tr><td> 5.2243959</td><td>-1.311939 </td></tr>\n",
       "\t<tr><td>-0.5013456</td><td> 1.195997 </td></tr>\n",
       "\t<tr><td> 4.5960525</td><td> 3.308643 </td></tr>\n",
       "\t<tr><td> 3.1859494</td><td> 4.544457 </td></tr>\n",
       "</tbody>\n",
       "</table>\n"
      ],
      "text/latex": [
       "\\begin{tabular}{r|ll}\n",
       " X.1.0326997e.00 & X4.9988785e.00\\\\\n",
       "\\hline\n",
       "\t  6.1814855 &  4.385308 \\\\\n",
       "\t  6.1754709 & -1.663962 \\\\\n",
       "\t  5.2243959 & -1.311939 \\\\\n",
       "\t -0.5013456 &  1.195997 \\\\\n",
       "\t  4.5960525 &  3.308643 \\\\\n",
       "\t  3.1859494 &  4.544457 \\\\\n",
       "\\end{tabular}\n"
      ],
      "text/markdown": [
       "\n",
       "X.1.0326997e.00 | X4.9988785e.00 | \n",
       "|---|---|---|---|---|---|\n",
       "|  6.1814855 |  4.385308  | \n",
       "|  6.1754709 | -1.663962  | \n",
       "|  5.2243959 | -1.311939  | \n",
       "| -0.5013456 |  1.195997  | \n",
       "|  4.5960525 |  3.308643  | \n",
       "|  3.1859494 |  4.544457  | \n",
       "\n",
       "\n"
      ],
      "text/plain": [
       "  X.1.0326997e.00 X4.9988785e.00\n",
       "1  6.1814855       4.385308     \n",
       "2  6.1754709      -1.663962     \n",
       "3  5.2243959      -1.311939     \n",
       "4 -0.5013456       1.195997     \n",
       "5  4.5960525       3.308643     \n",
       "6  3.1859494       4.544457     "
      ]
     },
     "metadata": {},
     "output_type": "display_data"
    }
   ],
   "source": [
    "head(xx) # header = TRUE makes the first row column names."
   ]
  },
  {
   "cell_type": "code",
   "execution_count": null,
   "metadata": {},
   "outputs": [],
   "source": []
  }
 ],
 "metadata": {
  "kernelspec": {
   "display_name": "R",
   "language": "R",
   "name": "ir"
  },
  "language_info": {
   "codemirror_mode": "r",
   "file_extension": ".r",
   "mimetype": "text/x-r-source",
   "name": "R",
   "pygments_lexer": "r",
   "version": "3.5.1"
  }
 },
 "nbformat": 4,
 "nbformat_minor": 2
}
